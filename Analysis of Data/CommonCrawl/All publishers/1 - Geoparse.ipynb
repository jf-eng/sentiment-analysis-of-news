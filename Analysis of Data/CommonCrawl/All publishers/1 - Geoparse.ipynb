{
 "cells": [
  {
   "cell_type": "code",
   "execution_count": 14,
   "source": [
    "from datetime import datetime\n",
    "from matplotlib import pyplot as plt\n",
    "from matplotlib.pyplot import figure\n",
    "import pandas as pd\n",
    "import numpy as np\n",
    "import re\n",
    "from tqdm import tqdm\n",
    "from cliff.api import Cliff\n",
    "import seaborn as sns\n",
    "from transformers import pipeline\n"
   ],
   "outputs": [],
   "metadata": {}
  },
  {
   "cell_type": "markdown",
   "source": [
    "# Data Preprocessing"
   ],
   "metadata": {}
  },
  {
   "cell_type": "markdown",
   "source": [
    "## Dropping data with empty dates and sorting data by date"
   ],
   "metadata": {}
  },
  {
   "cell_type": "code",
   "execution_count": 2,
   "source": [
    "dataset = pd.read_json('random_c4.json').reset_index(drop = True)"
   ],
   "outputs": [],
   "metadata": {}
  },
  {
   "cell_type": "code",
   "execution_count": 3,
   "source": [
    "dataset.head()"
   ],
   "outputs": [
    {
     "output_type": "execute_result",
     "data": {
      "text/plain": [
       "                                                text           timestamp  \\\n",
       "0  Cumberland County Prosecutor’s Office says rem... 2019-04-18 13:05:03   \n",
       "1  War? . . . what war?\\nDoes it seem like we are... 2019-04-18 21:00:27   \n",
       "2  The Sagittarian Teapot (center of our Milky Wa... 2019-04-18 14:36:08   \n",
       "3  Sportswear tycoon Mike Ashley gave orders to s... 2019-04-18 20:17:31   \n",
       "4  Vice President Chen Chien-jen, second left, an... 2019-04-18 19:28:32   \n",
       "\n",
       "                                                 url  \n",
       "0  https://www.thedailyjournal.com/story/news/loc...  \n",
       "1    https://www.texasgopvote.com/war-what-war-00116  \n",
       "2  https://www.miamiherald.com/living/article2595...  \n",
       "3  https://www.thisismoney.co.uk/money/markets/ar...  \n",
       "4  http://www.taipeitimes.com/News/front/archives...  "
      ],
      "text/html": [
       "<div>\n",
       "<style scoped>\n",
       "    .dataframe tbody tr th:only-of-type {\n",
       "        vertical-align: middle;\n",
       "    }\n",
       "\n",
       "    .dataframe tbody tr th {\n",
       "        vertical-align: top;\n",
       "    }\n",
       "\n",
       "    .dataframe thead th {\n",
       "        text-align: right;\n",
       "    }\n",
       "</style>\n",
       "<table border=\"1\" class=\"dataframe\">\n",
       "  <thead>\n",
       "    <tr style=\"text-align: right;\">\n",
       "      <th></th>\n",
       "      <th>text</th>\n",
       "      <th>timestamp</th>\n",
       "      <th>url</th>\n",
       "    </tr>\n",
       "  </thead>\n",
       "  <tbody>\n",
       "    <tr>\n",
       "      <th>0</th>\n",
       "      <td>Cumberland County Prosecutor’s Office says rem...</td>\n",
       "      <td>2019-04-18 13:05:03</td>\n",
       "      <td>https://www.thedailyjournal.com/story/news/loc...</td>\n",
       "    </tr>\n",
       "    <tr>\n",
       "      <th>1</th>\n",
       "      <td>War? . . . what war?\\nDoes it seem like we are...</td>\n",
       "      <td>2019-04-18 21:00:27</td>\n",
       "      <td>https://www.texasgopvote.com/war-what-war-00116</td>\n",
       "    </tr>\n",
       "    <tr>\n",
       "      <th>2</th>\n",
       "      <td>The Sagittarian Teapot (center of our Milky Wa...</td>\n",
       "      <td>2019-04-18 14:36:08</td>\n",
       "      <td>https://www.miamiherald.com/living/article2595...</td>\n",
       "    </tr>\n",
       "    <tr>\n",
       "      <th>3</th>\n",
       "      <td>Sportswear tycoon Mike Ashley gave orders to s...</td>\n",
       "      <td>2019-04-18 20:17:31</td>\n",
       "      <td>https://www.thisismoney.co.uk/money/markets/ar...</td>\n",
       "    </tr>\n",
       "    <tr>\n",
       "      <th>4</th>\n",
       "      <td>Vice President Chen Chien-jen, second left, an...</td>\n",
       "      <td>2019-04-18 19:28:32</td>\n",
       "      <td>http://www.taipeitimes.com/News/front/archives...</td>\n",
       "    </tr>\n",
       "  </tbody>\n",
       "</table>\n",
       "</div>"
      ]
     },
     "metadata": {},
     "execution_count": 3
    }
   ],
   "metadata": {}
  },
  {
   "cell_type": "code",
   "execution_count": null,
   "source": [
    "dataset['timestamp']= pd.to_datetime(dataset['timestamp'])"
   ],
   "outputs": [],
   "metadata": {}
  },
  {
   "cell_type": "markdown",
   "source": [
    "## Predicting subject country of each article"
   ],
   "metadata": {}
  },
  {
   "cell_type": "code",
   "execution_count": 5,
   "source": [
    "# Execute the following from command-line first before running this cell\n",
    "# docker pull rahulbot/cliff-clavin:latest\n",
    "# docker run -p 8080:8080 -m 8G -d rahulbot/cliff-clavin:latest\n",
    "\n",
    "my_cliff = Cliff('http://localhost:8080')\n",
    "dataset[\"geoparsed\"] = [my_cliff.parse_text(x) for x in tqdm(dataset[\"text\"])]"
   ],
   "outputs": [
    {
     "output_type": "stream",
     "name": "stderr",
     "text": [
      "100%|██████████| 450000/450000 [2:51:40<00:00, 43.69it/s]\n"
     ]
    }
   ],
   "metadata": {}
  },
  {
   "cell_type": "markdown",
   "source": [
    "## Cleaning dataset\n",
    "- Extract out info from cliff-clavin output"
   ],
   "metadata": {}
  },
  {
   "cell_type": "code",
   "execution_count": 6,
   "source": [
    "cities_list, states_list, countries_list, country_name, country_code = [], [], [], [], []\n",
    "for x in tqdm(dataset['geoparsed']):\n",
    "    if x['results']['places']['focus']:\n",
    "        cities_list.append(x['results']['places']['focus']['cities'])\n",
    "        states_list.append(x['results']['places']['focus']['states'])\n",
    "        countries_list.append(x['results']['places']['focus']['countries'])\n",
    "        tmp_country_name, tmp_country_code = [], []\n",
    "        for country in x['results']['places']['focus']['countries']:\n",
    "            tmp_country_name.append(country['name'])\n",
    "            tmp_country_code.append(country['countryCode'])\n",
    "        country_name.append(tmp_country_name)\n",
    "        country_code.append(tmp_country_code)\n",
    "    else:\n",
    "        cities_list.append(None)\n",
    "        states_list.append(None)\n",
    "        countries_list.append(None)\n",
    "        country_name.append(None)\n",
    "        country_code.append(None)"
   ],
   "outputs": [
    {
     "output_type": "stream",
     "name": "stderr",
     "text": [
      "100%|██████████| 450000/450000 [00:04<00:00, 90282.17it/s] \n"
     ]
    }
   ],
   "metadata": {}
  },
  {
   "cell_type": "code",
   "execution_count": 7,
   "source": [
    "dataset['cities_list'] = cities_list\n",
    "dataset['states_list'] = states_list\n",
    "dataset['countries_list'] = countries_list\n",
    "dataset['country_name'] = country_name\n",
    "dataset['country_code'] = country_code\n",
    "dataset = dataset.drop(columns = 'geoparsed')"
   ],
   "outputs": [],
   "metadata": {}
  },
  {
   "cell_type": "code",
   "execution_count": 8,
   "source": [
    "dataset.head()"
   ],
   "outputs": [
    {
     "output_type": "execute_result",
     "data": {
      "text/plain": [
       "                                                text           timestamp  \\\n",
       "0  Cumberland County Prosecutor’s Office says rem... 2019-04-18 13:05:03   \n",
       "1  War? . . . what war?\\nDoes it seem like we are... 2019-04-18 21:00:27   \n",
       "2  The Sagittarian Teapot (center of our Milky Wa... 2019-04-18 14:36:08   \n",
       "3  Sportswear tycoon Mike Ashley gave orders to s... 2019-04-18 20:17:31   \n",
       "4  Vice President Chen Chien-jen, second left, an... 2019-04-18 19:28:32   \n",
       "\n",
       "                                                 url  \\\n",
       "0  https://www.thedailyjournal.com/story/news/loc...   \n",
       "1    https://www.texasgopvote.com/war-what-war-00116   \n",
       "2  https://www.miamiherald.com/living/article2595...   \n",
       "3  https://www.thisismoney.co.uk/money/markets/ar...   \n",
       "4  http://www.taipeitimes.com/News/front/archives...   \n",
       "\n",
       "                                         cities_list  \\\n",
       "0  [{'score': 4, 'featureCode': 'PPL', 'stateGeoN...   \n",
       "1  [{'score': 1, 'featureCode': 'PPLA2', 'stateGe...   \n",
       "2  [{'score': 3, 'featureCode': 'PPLL', 'stateGeo...   \n",
       "3  [{'score': 1, 'featureCode': 'PPLA2', 'stateGe...   \n",
       "4  [{'score': 2, 'featureCode': 'PPLC', 'stateGeo...   \n",
       "\n",
       "                                         states_list  \\\n",
       "0  [{'score': 9, 'featureCode': 'ADM1', 'stateGeo...   \n",
       "1  [{'score': 3, 'featureCode': 'ADM1', 'stateGeo...   \n",
       "2  [{'score': 4, 'featureCode': 'ADM1', 'stateGeo...   \n",
       "3  [{'score': 1, 'featureCode': 'ADM1', 'stateGeo...   \n",
       "4  [{'score': 2, 'featureCode': 'ADM1', 'stateGeo...   \n",
       "\n",
       "                                      countries_list  \\\n",
       "0  [{'score': 12, 'featureCode': 'PCLI', 'stateGe...   \n",
       "1  [{'score': 3, 'featureCode': 'PCLI', 'stateGeo...   \n",
       "2  [{'score': 4, 'featureCode': 'PCLI', 'stateGeo...   \n",
       "3  [{'score': 2, 'featureCode': 'PCLI', 'stateGeo...   \n",
       "4  [{'score': 7, 'featureCode': 'PCLI', 'stateGeo...   \n",
       "\n",
       "                                        country_name country_code  \n",
       "0                                    [United States]         [US]  \n",
       "1                                    [United States]         [US]  \n",
       "2                        [Commonwealth of Australia]         [AU]  \n",
       "3  [United Kingdom of Great Britain and Northern ...         [GB]  \n",
       "4                                           [Taiwan]         [TW]  "
      ],
      "text/html": [
       "<div>\n",
       "<style scoped>\n",
       "    .dataframe tbody tr th:only-of-type {\n",
       "        vertical-align: middle;\n",
       "    }\n",
       "\n",
       "    .dataframe tbody tr th {\n",
       "        vertical-align: top;\n",
       "    }\n",
       "\n",
       "    .dataframe thead th {\n",
       "        text-align: right;\n",
       "    }\n",
       "</style>\n",
       "<table border=\"1\" class=\"dataframe\">\n",
       "  <thead>\n",
       "    <tr style=\"text-align: right;\">\n",
       "      <th></th>\n",
       "      <th>text</th>\n",
       "      <th>timestamp</th>\n",
       "      <th>url</th>\n",
       "      <th>cities_list</th>\n",
       "      <th>states_list</th>\n",
       "      <th>countries_list</th>\n",
       "      <th>country_name</th>\n",
       "      <th>country_code</th>\n",
       "    </tr>\n",
       "  </thead>\n",
       "  <tbody>\n",
       "    <tr>\n",
       "      <th>0</th>\n",
       "      <td>Cumberland County Prosecutor’s Office says rem...</td>\n",
       "      <td>2019-04-18 13:05:03</td>\n",
       "      <td>https://www.thedailyjournal.com/story/news/loc...</td>\n",
       "      <td>[{'score': 4, 'featureCode': 'PPL', 'stateGeoN...</td>\n",
       "      <td>[{'score': 9, 'featureCode': 'ADM1', 'stateGeo...</td>\n",
       "      <td>[{'score': 12, 'featureCode': 'PCLI', 'stateGe...</td>\n",
       "      <td>[United States]</td>\n",
       "      <td>[US]</td>\n",
       "    </tr>\n",
       "    <tr>\n",
       "      <th>1</th>\n",
       "      <td>War? . . . what war?\\nDoes it seem like we are...</td>\n",
       "      <td>2019-04-18 21:00:27</td>\n",
       "      <td>https://www.texasgopvote.com/war-what-war-00116</td>\n",
       "      <td>[{'score': 1, 'featureCode': 'PPLA2', 'stateGe...</td>\n",
       "      <td>[{'score': 3, 'featureCode': 'ADM1', 'stateGeo...</td>\n",
       "      <td>[{'score': 3, 'featureCode': 'PCLI', 'stateGeo...</td>\n",
       "      <td>[United States]</td>\n",
       "      <td>[US]</td>\n",
       "    </tr>\n",
       "    <tr>\n",
       "      <th>2</th>\n",
       "      <td>The Sagittarian Teapot (center of our Milky Wa...</td>\n",
       "      <td>2019-04-18 14:36:08</td>\n",
       "      <td>https://www.miamiherald.com/living/article2595...</td>\n",
       "      <td>[{'score': 3, 'featureCode': 'PPLL', 'stateGeo...</td>\n",
       "      <td>[{'score': 4, 'featureCode': 'ADM1', 'stateGeo...</td>\n",
       "      <td>[{'score': 4, 'featureCode': 'PCLI', 'stateGeo...</td>\n",
       "      <td>[Commonwealth of Australia]</td>\n",
       "      <td>[AU]</td>\n",
       "    </tr>\n",
       "    <tr>\n",
       "      <th>3</th>\n",
       "      <td>Sportswear tycoon Mike Ashley gave orders to s...</td>\n",
       "      <td>2019-04-18 20:17:31</td>\n",
       "      <td>https://www.thisismoney.co.uk/money/markets/ar...</td>\n",
       "      <td>[{'score': 1, 'featureCode': 'PPLA2', 'stateGe...</td>\n",
       "      <td>[{'score': 1, 'featureCode': 'ADM1', 'stateGeo...</td>\n",
       "      <td>[{'score': 2, 'featureCode': 'PCLI', 'stateGeo...</td>\n",
       "      <td>[United Kingdom of Great Britain and Northern ...</td>\n",
       "      <td>[GB]</td>\n",
       "    </tr>\n",
       "    <tr>\n",
       "      <th>4</th>\n",
       "      <td>Vice President Chen Chien-jen, second left, an...</td>\n",
       "      <td>2019-04-18 19:28:32</td>\n",
       "      <td>http://www.taipeitimes.com/News/front/archives...</td>\n",
       "      <td>[{'score': 2, 'featureCode': 'PPLC', 'stateGeo...</td>\n",
       "      <td>[{'score': 2, 'featureCode': 'ADM1', 'stateGeo...</td>\n",
       "      <td>[{'score': 7, 'featureCode': 'PCLI', 'stateGeo...</td>\n",
       "      <td>[Taiwan]</td>\n",
       "      <td>[TW]</td>\n",
       "    </tr>\n",
       "  </tbody>\n",
       "</table>\n",
       "</div>"
      ]
     },
     "metadata": {},
     "execution_count": 8
    }
   ],
   "metadata": {}
  },
  {
   "cell_type": "code",
   "execution_count": 9,
   "source": [
    "dataset.to_json('c4_news_geoparsed.json')"
   ],
   "outputs": [],
   "metadata": {}
  },
  {
   "cell_type": "markdown",
   "source": [
    "# Extract out countries"
   ],
   "metadata": {}
  },
  {
   "cell_type": "code",
   "execution_count": 4,
   "source": [
    "dataset = pd.read_json('c4_news_geoparsed.json')"
   ],
   "outputs": [],
   "metadata": {}
  },
  {
   "cell_type": "code",
   "execution_count": 5,
   "source": [
    "dataset['timestamp'] = pd.to_datetime(dataset['timestamp'])"
   ],
   "outputs": [],
   "metadata": {}
  },
  {
   "cell_type": "code",
   "execution_count": 6,
   "source": [
    "# Check for number of rows with no countries assosociated: 68043 rows\n",
    "no_country = dataset['countries_list'].isnull().sum()\n",
    "old_rows = dataset.shape[0]\n",
    "print(\"Number of articles with no countries detected: {}\".format(no_country))\n",
    "print(\"Percentage of articles with no countries detected: {:.2f}%\".format(no_country/old_rows * 100))"
   ],
   "outputs": [
    {
     "output_type": "stream",
     "name": "stdout",
     "text": [
      "Number of articles with no countries detected: 93943\n",
      "Percentage of articles with no countries detected: 20.88%\n"
     ]
    }
   ],
   "metadata": {}
  },
  {
   "cell_type": "code",
   "execution_count": 7,
   "source": [
    "# Drop rows with no country tagged; make sure no data lost\n",
    "dataset = dataset.dropna(axis = 0, subset = ['countries_list'])\n",
    "print(dataset.shape[0] == old_rows - no_country)\n",
    "print(\"Number of articles left with countries detected: {}\".format(dataset.shape[0]))"
   ],
   "outputs": [
    {
     "output_type": "stream",
     "name": "stdout",
     "text": [
      "True\n",
      "Number of articles left with countries detected: 356057\n"
     ]
    }
   ],
   "metadata": {}
  },
  {
   "cell_type": "code",
   "execution_count": 8,
   "source": [
    "dataset['timestamp'].dt.date.value_counts().sort_index().plot(kind = 'bar')\n",
    "plt.xlabel('Date')\n",
    "plt.ylabel('Number of articles')\n",
    "plt.title('Distribution of articles with focus country')"
   ],
   "outputs": [
    {
     "output_type": "execute_result",
     "data": {
      "text/plain": [
       "Text(0.5, 1.0, 'Distribution of articles with focus country')"
      ]
     },
     "metadata": {},
     "execution_count": 8
    },
    {
     "output_type": "display_data",
     "data": {
      "text/plain": [
       "<Figure size 432x288 with 1 Axes>"
      ],
      "image/svg+xml": "<?xml version=\"1.0\" encoding=\"utf-8\" standalone=\"no\"?>\n<!DOCTYPE svg PUBLIC \"-//W3C//DTD SVG 1.1//EN\"\n  \"http://www.w3.org/Graphics/SVG/1.1/DTD/svg11.dtd\">\n<svg height=\"325.751875pt\" version=\"1.1\" viewBox=\"0 0 401.690625 325.751875\" width=\"401.690625pt\" xmlns=\"http://www.w3.org/2000/svg\" xmlns:xlink=\"http://www.w3.org/1999/xlink\">\n <metadata>\n  <rdf:RDF xmlns:cc=\"http://creativecommons.org/ns#\" xmlns:dc=\"http://purl.org/dc/elements/1.1/\" xmlns:rdf=\"http://www.w3.org/1999/02/22-rdf-syntax-ns#\">\n   <cc:Work>\n    <dc:type rdf:resource=\"http://purl.org/dc/dcmitype/StillImage\"/>\n    <dc:date>2021-08-19T18:13:46.815003</dc:date>\n    <dc:format>image/svg+xml</dc:format>\n    <dc:creator>\n     <cc:Agent>\n      <dc:title>Matplotlib v3.4.2, https://matplotlib.org/</dc:title>\n     </cc:Agent>\n    </dc:creator>\n   </cc:Work>\n  </rdf:RDF>\n </metadata>\n <defs>\n  <style type=\"text/css\">*{stroke-linecap:butt;stroke-linejoin:round;}</style>\n </defs>\n <g id=\"figure_1\">\n  <g id=\"patch_1\">\n   <path d=\"M 0 325.751875 \nL 401.690625 325.751875 \nL 401.690625 0 \nL 0 0 \nz\n\" style=\"fill:none;\"/>\n  </g>\n  <g id=\"axes_1\">\n   <g id=\"patch_2\">\n    <path d=\"M 59.690625 239.758125 \nL 394.490625 239.758125 \nL 394.490625 22.318125 \nL 59.690625 22.318125 \nz\n\" style=\"fill:#ffffff;\"/>\n   </g>\n   <g id=\"patch_3\">\n    <path clip-path=\"url(#p1e7ebb4b48)\" d=\"M 68.990625 239.758125 \nL 87.590625 239.758125 \nL 87.590625 33.307835 \nL 68.990625 33.307835 \nz\n\" style=\"fill:#1f77b4;\"/>\n   </g>\n   <g id=\"patch_4\">\n    <path clip-path=\"url(#p1e7ebb4b48)\" d=\"M 106.190625 239.758125 \nL 124.790625 239.758125 \nL 124.790625 33.80784 \nL 106.190625 33.80784 \nz\n\" style=\"fill:#1f77b4;\"/>\n   </g>\n   <g id=\"patch_5\">\n    <path clip-path=\"url(#p1e7ebb4b48)\" d=\"M 143.390625 239.758125 \nL 161.990625 239.758125 \nL 161.990625 33.797424 \nL 143.390625 33.797424 \nz\n\" style=\"fill:#1f77b4;\"/>\n   </g>\n   <g id=\"patch_6\">\n    <path clip-path=\"url(#p1e7ebb4b48)\" d=\"M 180.590625 239.758125 \nL 199.190625 239.758125 \nL 199.190625 32.672411 \nL 180.590625 32.672411 \nz\n\" style=\"fill:#1f77b4;\"/>\n   </g>\n   <g id=\"patch_7\">\n    <path clip-path=\"url(#p1e7ebb4b48)\" d=\"M 217.790625 239.758125 \nL 236.390625 239.758125 \nL 236.390625 34.021385 \nL 217.790625 34.021385 \nz\n\" style=\"fill:#1f77b4;\"/>\n   </g>\n   <g id=\"patch_8\">\n    <path clip-path=\"url(#p1e7ebb4b48)\" d=\"M 254.990625 239.758125 \nL 273.590625 239.758125 \nL 273.590625 32.875538 \nL 254.990625 32.875538 \nz\n\" style=\"fill:#1f77b4;\"/>\n   </g>\n   <g id=\"patch_9\">\n    <path clip-path=\"url(#p1e7ebb4b48)\" d=\"M 292.190625 239.758125 \nL 310.790625 239.758125 \nL 310.790625 34.344305 \nL 292.190625 34.344305 \nz\n\" style=\"fill:#1f77b4;\"/>\n   </g>\n   <g id=\"patch_10\">\n    <path clip-path=\"url(#p1e7ebb4b48)\" d=\"M 329.390625 239.758125 \nL 347.990625 239.758125 \nL 347.990625 33.693256 \nL 329.390625 33.693256 \nz\n\" style=\"fill:#1f77b4;\"/>\n   </g>\n   <g id=\"patch_11\">\n    <path clip-path=\"url(#p1e7ebb4b48)\" d=\"M 366.590625 239.758125 \nL 385.190625 239.758125 \nL 385.190625 34.818269 \nL 366.590625 34.818269 \nz\n\" style=\"fill:#1f77b4;\"/>\n   </g>\n   <g id=\"matplotlib.axis_1\">\n    <g id=\"xtick_1\">\n     <g id=\"line2d_1\">\n      <defs>\n       <path d=\"M 0 0 \nL 0 3.5 \n\" id=\"m3ad4a5c168\" style=\"stroke:#000000;stroke-width:0.8;\"/>\n      </defs>\n      <g>\n       <use style=\"stroke:#000000;stroke-width:0.8;\" x=\"78.290625\" xlink:href=\"#m3ad4a5c168\" y=\"239.758125\"/>\n      </g>\n     </g>\n     <g id=\"text_1\">\n      <!-- 2019-04-18 -->\n      <g transform=\"translate(81.05 304.87375)rotate(-90)scale(0.1 -0.1)\">\n       <defs>\n        <path d=\"M 1228 531 \nL 3431 531 \nL 3431 0 \nL 469 0 \nL 469 531 \nQ 828 903 1448 1529 \nQ 2069 2156 2228 2338 \nQ 2531 2678 2651 2914 \nQ 2772 3150 2772 3378 \nQ 2772 3750 2511 3984 \nQ 2250 4219 1831 4219 \nQ 1534 4219 1204 4116 \nQ 875 4013 500 3803 \nL 500 4441 \nQ 881 4594 1212 4672 \nQ 1544 4750 1819 4750 \nQ 2544 4750 2975 4387 \nQ 3406 4025 3406 3419 \nQ 3406 3131 3298 2873 \nQ 3191 2616 2906 2266 \nQ 2828 2175 2409 1742 \nQ 1991 1309 1228 531 \nz\n\" id=\"DejaVuSans-32\" transform=\"scale(0.015625)\"/>\n        <path d=\"M 2034 4250 \nQ 1547 4250 1301 3770 \nQ 1056 3291 1056 2328 \nQ 1056 1369 1301 889 \nQ 1547 409 2034 409 \nQ 2525 409 2770 889 \nQ 3016 1369 3016 2328 \nQ 3016 3291 2770 3770 \nQ 2525 4250 2034 4250 \nz\nM 2034 4750 \nQ 2819 4750 3233 4129 \nQ 3647 3509 3647 2328 \nQ 3647 1150 3233 529 \nQ 2819 -91 2034 -91 \nQ 1250 -91 836 529 \nQ 422 1150 422 2328 \nQ 422 3509 836 4129 \nQ 1250 4750 2034 4750 \nz\n\" id=\"DejaVuSans-30\" transform=\"scale(0.015625)\"/>\n        <path d=\"M 794 531 \nL 1825 531 \nL 1825 4091 \nL 703 3866 \nL 703 4441 \nL 1819 4666 \nL 2450 4666 \nL 2450 531 \nL 3481 531 \nL 3481 0 \nL 794 0 \nL 794 531 \nz\n\" id=\"DejaVuSans-31\" transform=\"scale(0.015625)\"/>\n        <path d=\"M 703 97 \nL 703 672 \nQ 941 559 1184 500 \nQ 1428 441 1663 441 \nQ 2288 441 2617 861 \nQ 2947 1281 2994 2138 \nQ 2813 1869 2534 1725 \nQ 2256 1581 1919 1581 \nQ 1219 1581 811 2004 \nQ 403 2428 403 3163 \nQ 403 3881 828 4315 \nQ 1253 4750 1959 4750 \nQ 2769 4750 3195 4129 \nQ 3622 3509 3622 2328 \nQ 3622 1225 3098 567 \nQ 2575 -91 1691 -91 \nQ 1453 -91 1209 -44 \nQ 966 3 703 97 \nz\nM 1959 2075 \nQ 2384 2075 2632 2365 \nQ 2881 2656 2881 3163 \nQ 2881 3666 2632 3958 \nQ 2384 4250 1959 4250 \nQ 1534 4250 1286 3958 \nQ 1038 3666 1038 3163 \nQ 1038 2656 1286 2365 \nQ 1534 2075 1959 2075 \nz\n\" id=\"DejaVuSans-39\" transform=\"scale(0.015625)\"/>\n        <path d=\"M 313 2009 \nL 1997 2009 \nL 1997 1497 \nL 313 1497 \nL 313 2009 \nz\n\" id=\"DejaVuSans-2d\" transform=\"scale(0.015625)\"/>\n        <path d=\"M 2419 4116 \nL 825 1625 \nL 2419 1625 \nL 2419 4116 \nz\nM 2253 4666 \nL 3047 4666 \nL 3047 1625 \nL 3713 1625 \nL 3713 1100 \nL 3047 1100 \nL 3047 0 \nL 2419 0 \nL 2419 1100 \nL 313 1100 \nL 313 1709 \nL 2253 4666 \nz\n\" id=\"DejaVuSans-34\" transform=\"scale(0.015625)\"/>\n        <path d=\"M 2034 2216 \nQ 1584 2216 1326 1975 \nQ 1069 1734 1069 1313 \nQ 1069 891 1326 650 \nQ 1584 409 2034 409 \nQ 2484 409 2743 651 \nQ 3003 894 3003 1313 \nQ 3003 1734 2745 1975 \nQ 2488 2216 2034 2216 \nz\nM 1403 2484 \nQ 997 2584 770 2862 \nQ 544 3141 544 3541 \nQ 544 4100 942 4425 \nQ 1341 4750 2034 4750 \nQ 2731 4750 3128 4425 \nQ 3525 4100 3525 3541 \nQ 3525 3141 3298 2862 \nQ 3072 2584 2669 2484 \nQ 3125 2378 3379 2068 \nQ 3634 1759 3634 1313 \nQ 3634 634 3220 271 \nQ 2806 -91 2034 -91 \nQ 1263 -91 848 271 \nQ 434 634 434 1313 \nQ 434 1759 690 2068 \nQ 947 2378 1403 2484 \nz\nM 1172 3481 \nQ 1172 3119 1398 2916 \nQ 1625 2713 2034 2713 \nQ 2441 2713 2670 2916 \nQ 2900 3119 2900 3481 \nQ 2900 3844 2670 4047 \nQ 2441 4250 2034 4250 \nQ 1625 4250 1398 4047 \nQ 1172 3844 1172 3481 \nz\n\" id=\"DejaVuSans-38\" transform=\"scale(0.015625)\"/>\n       </defs>\n       <use xlink:href=\"#DejaVuSans-32\"/>\n       <use x=\"63.623047\" xlink:href=\"#DejaVuSans-30\"/>\n       <use x=\"127.246094\" xlink:href=\"#DejaVuSans-31\"/>\n       <use x=\"190.869141\" xlink:href=\"#DejaVuSans-39\"/>\n       <use x=\"254.492188\" xlink:href=\"#DejaVuSans-2d\"/>\n       <use x=\"290.576172\" xlink:href=\"#DejaVuSans-30\"/>\n       <use x=\"354.199219\" xlink:href=\"#DejaVuSans-34\"/>\n       <use x=\"417.822266\" xlink:href=\"#DejaVuSans-2d\"/>\n       <use x=\"453.90625\" xlink:href=\"#DejaVuSans-31\"/>\n       <use x=\"517.529297\" xlink:href=\"#DejaVuSans-38\"/>\n      </g>\n     </g>\n    </g>\n    <g id=\"xtick_2\">\n     <g id=\"line2d_2\">\n      <g>\n       <use style=\"stroke:#000000;stroke-width:0.8;\" x=\"115.490625\" xlink:href=\"#m3ad4a5c168\" y=\"239.758125\"/>\n      </g>\n     </g>\n     <g id=\"text_2\">\n      <!-- 2019-04-19 -->\n      <g transform=\"translate(118.25 304.87375)rotate(-90)scale(0.1 -0.1)\">\n       <use xlink:href=\"#DejaVuSans-32\"/>\n       <use x=\"63.623047\" xlink:href=\"#DejaVuSans-30\"/>\n       <use x=\"127.246094\" xlink:href=\"#DejaVuSans-31\"/>\n       <use x=\"190.869141\" xlink:href=\"#DejaVuSans-39\"/>\n       <use x=\"254.492188\" xlink:href=\"#DejaVuSans-2d\"/>\n       <use x=\"290.576172\" xlink:href=\"#DejaVuSans-30\"/>\n       <use x=\"354.199219\" xlink:href=\"#DejaVuSans-34\"/>\n       <use x=\"417.822266\" xlink:href=\"#DejaVuSans-2d\"/>\n       <use x=\"453.90625\" xlink:href=\"#DejaVuSans-31\"/>\n       <use x=\"517.529297\" xlink:href=\"#DejaVuSans-39\"/>\n      </g>\n     </g>\n    </g>\n    <g id=\"xtick_3\">\n     <g id=\"line2d_3\">\n      <g>\n       <use style=\"stroke:#000000;stroke-width:0.8;\" x=\"152.690625\" xlink:href=\"#m3ad4a5c168\" y=\"239.758125\"/>\n      </g>\n     </g>\n     <g id=\"text_3\">\n      <!-- 2019-04-20 -->\n      <g transform=\"translate(155.45 304.87375)rotate(-90)scale(0.1 -0.1)\">\n       <use xlink:href=\"#DejaVuSans-32\"/>\n       <use x=\"63.623047\" xlink:href=\"#DejaVuSans-30\"/>\n       <use x=\"127.246094\" xlink:href=\"#DejaVuSans-31\"/>\n       <use x=\"190.869141\" xlink:href=\"#DejaVuSans-39\"/>\n       <use x=\"254.492188\" xlink:href=\"#DejaVuSans-2d\"/>\n       <use x=\"290.576172\" xlink:href=\"#DejaVuSans-30\"/>\n       <use x=\"354.199219\" xlink:href=\"#DejaVuSans-34\"/>\n       <use x=\"417.822266\" xlink:href=\"#DejaVuSans-2d\"/>\n       <use x=\"453.90625\" xlink:href=\"#DejaVuSans-32\"/>\n       <use x=\"517.529297\" xlink:href=\"#DejaVuSans-30\"/>\n      </g>\n     </g>\n    </g>\n    <g id=\"xtick_4\">\n     <g id=\"line2d_4\">\n      <g>\n       <use style=\"stroke:#000000;stroke-width:0.8;\" x=\"189.890625\" xlink:href=\"#m3ad4a5c168\" y=\"239.758125\"/>\n      </g>\n     </g>\n     <g id=\"text_4\">\n      <!-- 2019-04-21 -->\n      <g transform=\"translate(192.65 304.87375)rotate(-90)scale(0.1 -0.1)\">\n       <use xlink:href=\"#DejaVuSans-32\"/>\n       <use x=\"63.623047\" xlink:href=\"#DejaVuSans-30\"/>\n       <use x=\"127.246094\" xlink:href=\"#DejaVuSans-31\"/>\n       <use x=\"190.869141\" xlink:href=\"#DejaVuSans-39\"/>\n       <use x=\"254.492188\" xlink:href=\"#DejaVuSans-2d\"/>\n       <use x=\"290.576172\" xlink:href=\"#DejaVuSans-30\"/>\n       <use x=\"354.199219\" xlink:href=\"#DejaVuSans-34\"/>\n       <use x=\"417.822266\" xlink:href=\"#DejaVuSans-2d\"/>\n       <use x=\"453.90625\" xlink:href=\"#DejaVuSans-32\"/>\n       <use x=\"517.529297\" xlink:href=\"#DejaVuSans-31\"/>\n      </g>\n     </g>\n    </g>\n    <g id=\"xtick_5\">\n     <g id=\"line2d_5\">\n      <g>\n       <use style=\"stroke:#000000;stroke-width:0.8;\" x=\"227.090625\" xlink:href=\"#m3ad4a5c168\" y=\"239.758125\"/>\n      </g>\n     </g>\n     <g id=\"text_5\">\n      <!-- 2019-04-22 -->\n      <g transform=\"translate(229.85 304.87375)rotate(-90)scale(0.1 -0.1)\">\n       <use xlink:href=\"#DejaVuSans-32\"/>\n       <use x=\"63.623047\" xlink:href=\"#DejaVuSans-30\"/>\n       <use x=\"127.246094\" xlink:href=\"#DejaVuSans-31\"/>\n       <use x=\"190.869141\" xlink:href=\"#DejaVuSans-39\"/>\n       <use x=\"254.492188\" xlink:href=\"#DejaVuSans-2d\"/>\n       <use x=\"290.576172\" xlink:href=\"#DejaVuSans-30\"/>\n       <use x=\"354.199219\" xlink:href=\"#DejaVuSans-34\"/>\n       <use x=\"417.822266\" xlink:href=\"#DejaVuSans-2d\"/>\n       <use x=\"453.90625\" xlink:href=\"#DejaVuSans-32\"/>\n       <use x=\"517.529297\" xlink:href=\"#DejaVuSans-32\"/>\n      </g>\n     </g>\n    </g>\n    <g id=\"xtick_6\">\n     <g id=\"line2d_6\">\n      <g>\n       <use style=\"stroke:#000000;stroke-width:0.8;\" x=\"264.290625\" xlink:href=\"#m3ad4a5c168\" y=\"239.758125\"/>\n      </g>\n     </g>\n     <g id=\"text_6\">\n      <!-- 2019-04-23 -->\n      <g transform=\"translate(267.05 304.87375)rotate(-90)scale(0.1 -0.1)\">\n       <defs>\n        <path d=\"M 2597 2516 \nQ 3050 2419 3304 2112 \nQ 3559 1806 3559 1356 \nQ 3559 666 3084 287 \nQ 2609 -91 1734 -91 \nQ 1441 -91 1130 -33 \nQ 819 25 488 141 \nL 488 750 \nQ 750 597 1062 519 \nQ 1375 441 1716 441 \nQ 2309 441 2620 675 \nQ 2931 909 2931 1356 \nQ 2931 1769 2642 2001 \nQ 2353 2234 1838 2234 \nL 1294 2234 \nL 1294 2753 \nL 1863 2753 \nQ 2328 2753 2575 2939 \nQ 2822 3125 2822 3475 \nQ 2822 3834 2567 4026 \nQ 2313 4219 1838 4219 \nQ 1578 4219 1281 4162 \nQ 984 4106 628 3988 \nL 628 4550 \nQ 988 4650 1302 4700 \nQ 1616 4750 1894 4750 \nQ 2613 4750 3031 4423 \nQ 3450 4097 3450 3541 \nQ 3450 3153 3228 2886 \nQ 3006 2619 2597 2516 \nz\n\" id=\"DejaVuSans-33\" transform=\"scale(0.015625)\"/>\n       </defs>\n       <use xlink:href=\"#DejaVuSans-32\"/>\n       <use x=\"63.623047\" xlink:href=\"#DejaVuSans-30\"/>\n       <use x=\"127.246094\" xlink:href=\"#DejaVuSans-31\"/>\n       <use x=\"190.869141\" xlink:href=\"#DejaVuSans-39\"/>\n       <use x=\"254.492188\" xlink:href=\"#DejaVuSans-2d\"/>\n       <use x=\"290.576172\" xlink:href=\"#DejaVuSans-30\"/>\n       <use x=\"354.199219\" xlink:href=\"#DejaVuSans-34\"/>\n       <use x=\"417.822266\" xlink:href=\"#DejaVuSans-2d\"/>\n       <use x=\"453.90625\" xlink:href=\"#DejaVuSans-32\"/>\n       <use x=\"517.529297\" xlink:href=\"#DejaVuSans-33\"/>\n      </g>\n     </g>\n    </g>\n    <g id=\"xtick_7\">\n     <g id=\"line2d_7\">\n      <g>\n       <use style=\"stroke:#000000;stroke-width:0.8;\" x=\"301.490625\" xlink:href=\"#m3ad4a5c168\" y=\"239.758125\"/>\n      </g>\n     </g>\n     <g id=\"text_7\">\n      <!-- 2019-04-24 -->\n      <g transform=\"translate(304.25 304.87375)rotate(-90)scale(0.1 -0.1)\">\n       <use xlink:href=\"#DejaVuSans-32\"/>\n       <use x=\"63.623047\" xlink:href=\"#DejaVuSans-30\"/>\n       <use x=\"127.246094\" xlink:href=\"#DejaVuSans-31\"/>\n       <use x=\"190.869141\" xlink:href=\"#DejaVuSans-39\"/>\n       <use x=\"254.492188\" xlink:href=\"#DejaVuSans-2d\"/>\n       <use x=\"290.576172\" xlink:href=\"#DejaVuSans-30\"/>\n       <use x=\"354.199219\" xlink:href=\"#DejaVuSans-34\"/>\n       <use x=\"417.822266\" xlink:href=\"#DejaVuSans-2d\"/>\n       <use x=\"453.90625\" xlink:href=\"#DejaVuSans-32\"/>\n       <use x=\"517.529297\" xlink:href=\"#DejaVuSans-34\"/>\n      </g>\n     </g>\n    </g>\n    <g id=\"xtick_8\">\n     <g id=\"line2d_8\">\n      <g>\n       <use style=\"stroke:#000000;stroke-width:0.8;\" x=\"338.690625\" xlink:href=\"#m3ad4a5c168\" y=\"239.758125\"/>\n      </g>\n     </g>\n     <g id=\"text_8\">\n      <!-- 2019-04-25 -->\n      <g transform=\"translate(341.45 304.87375)rotate(-90)scale(0.1 -0.1)\">\n       <defs>\n        <path d=\"M 691 4666 \nL 3169 4666 \nL 3169 4134 \nL 1269 4134 \nL 1269 2991 \nQ 1406 3038 1543 3061 \nQ 1681 3084 1819 3084 \nQ 2600 3084 3056 2656 \nQ 3513 2228 3513 1497 \nQ 3513 744 3044 326 \nQ 2575 -91 1722 -91 \nQ 1428 -91 1123 -41 \nQ 819 9 494 109 \nL 494 744 \nQ 775 591 1075 516 \nQ 1375 441 1709 441 \nQ 2250 441 2565 725 \nQ 2881 1009 2881 1497 \nQ 2881 1984 2565 2268 \nQ 2250 2553 1709 2553 \nQ 1456 2553 1204 2497 \nQ 953 2441 691 2322 \nL 691 4666 \nz\n\" id=\"DejaVuSans-35\" transform=\"scale(0.015625)\"/>\n       </defs>\n       <use xlink:href=\"#DejaVuSans-32\"/>\n       <use x=\"63.623047\" xlink:href=\"#DejaVuSans-30\"/>\n       <use x=\"127.246094\" xlink:href=\"#DejaVuSans-31\"/>\n       <use x=\"190.869141\" xlink:href=\"#DejaVuSans-39\"/>\n       <use x=\"254.492188\" xlink:href=\"#DejaVuSans-2d\"/>\n       <use x=\"290.576172\" xlink:href=\"#DejaVuSans-30\"/>\n       <use x=\"354.199219\" xlink:href=\"#DejaVuSans-34\"/>\n       <use x=\"417.822266\" xlink:href=\"#DejaVuSans-2d\"/>\n       <use x=\"453.90625\" xlink:href=\"#DejaVuSans-32\"/>\n       <use x=\"517.529297\" xlink:href=\"#DejaVuSans-35\"/>\n      </g>\n     </g>\n    </g>\n    <g id=\"xtick_9\">\n     <g id=\"line2d_9\">\n      <g>\n       <use style=\"stroke:#000000;stroke-width:0.8;\" x=\"375.890625\" xlink:href=\"#m3ad4a5c168\" y=\"239.758125\"/>\n      </g>\n     </g>\n     <g id=\"text_9\">\n      <!-- 2019-04-26 -->\n      <g transform=\"translate(378.65 304.87375)rotate(-90)scale(0.1 -0.1)\">\n       <defs>\n        <path d=\"M 2113 2584 \nQ 1688 2584 1439 2293 \nQ 1191 2003 1191 1497 \nQ 1191 994 1439 701 \nQ 1688 409 2113 409 \nQ 2538 409 2786 701 \nQ 3034 994 3034 1497 \nQ 3034 2003 2786 2293 \nQ 2538 2584 2113 2584 \nz\nM 3366 4563 \nL 3366 3988 \nQ 3128 4100 2886 4159 \nQ 2644 4219 2406 4219 \nQ 1781 4219 1451 3797 \nQ 1122 3375 1075 2522 \nQ 1259 2794 1537 2939 \nQ 1816 3084 2150 3084 \nQ 2853 3084 3261 2657 \nQ 3669 2231 3669 1497 \nQ 3669 778 3244 343 \nQ 2819 -91 2113 -91 \nQ 1303 -91 875 529 \nQ 447 1150 447 2328 \nQ 447 3434 972 4092 \nQ 1497 4750 2381 4750 \nQ 2619 4750 2861 4703 \nQ 3103 4656 3366 4563 \nz\n\" id=\"DejaVuSans-36\" transform=\"scale(0.015625)\"/>\n       </defs>\n       <use xlink:href=\"#DejaVuSans-32\"/>\n       <use x=\"63.623047\" xlink:href=\"#DejaVuSans-30\"/>\n       <use x=\"127.246094\" xlink:href=\"#DejaVuSans-31\"/>\n       <use x=\"190.869141\" xlink:href=\"#DejaVuSans-39\"/>\n       <use x=\"254.492188\" xlink:href=\"#DejaVuSans-2d\"/>\n       <use x=\"290.576172\" xlink:href=\"#DejaVuSans-30\"/>\n       <use x=\"354.199219\" xlink:href=\"#DejaVuSans-34\"/>\n       <use x=\"417.822266\" xlink:href=\"#DejaVuSans-2d\"/>\n       <use x=\"453.90625\" xlink:href=\"#DejaVuSans-32\"/>\n       <use x=\"517.529297\" xlink:href=\"#DejaVuSans-36\"/>\n      </g>\n     </g>\n    </g>\n    <g id=\"text_10\">\n     <!-- Date -->\n     <g transform=\"translate(215.139844 316.472187)scale(0.1 -0.1)\">\n      <defs>\n       <path d=\"M 1259 4147 \nL 1259 519 \nL 2022 519 \nQ 2988 519 3436 956 \nQ 3884 1394 3884 2338 \nQ 3884 3275 3436 3711 \nQ 2988 4147 2022 4147 \nL 1259 4147 \nz\nM 628 4666 \nL 1925 4666 \nQ 3281 4666 3915 4102 \nQ 4550 3538 4550 2338 \nQ 4550 1131 3912 565 \nQ 3275 0 1925 0 \nL 628 0 \nL 628 4666 \nz\n\" id=\"DejaVuSans-44\" transform=\"scale(0.015625)\"/>\n       <path d=\"M 2194 1759 \nQ 1497 1759 1228 1600 \nQ 959 1441 959 1056 \nQ 959 750 1161 570 \nQ 1363 391 1709 391 \nQ 2188 391 2477 730 \nQ 2766 1069 2766 1631 \nL 2766 1759 \nL 2194 1759 \nz\nM 3341 1997 \nL 3341 0 \nL 2766 0 \nL 2766 531 \nQ 2569 213 2275 61 \nQ 1981 -91 1556 -91 \nQ 1019 -91 701 211 \nQ 384 513 384 1019 \nQ 384 1609 779 1909 \nQ 1175 2209 1959 2209 \nL 2766 2209 \nL 2766 2266 \nQ 2766 2663 2505 2880 \nQ 2244 3097 1772 3097 \nQ 1472 3097 1187 3025 \nQ 903 2953 641 2809 \nL 641 3341 \nQ 956 3463 1253 3523 \nQ 1550 3584 1831 3584 \nQ 2591 3584 2966 3190 \nQ 3341 2797 3341 1997 \nz\n\" id=\"DejaVuSans-61\" transform=\"scale(0.015625)\"/>\n       <path d=\"M 1172 4494 \nL 1172 3500 \nL 2356 3500 \nL 2356 3053 \nL 1172 3053 \nL 1172 1153 \nQ 1172 725 1289 603 \nQ 1406 481 1766 481 \nL 2356 481 \nL 2356 0 \nL 1766 0 \nQ 1100 0 847 248 \nQ 594 497 594 1153 \nL 594 3053 \nL 172 3053 \nL 172 3500 \nL 594 3500 \nL 594 4494 \nL 1172 4494 \nz\n\" id=\"DejaVuSans-74\" transform=\"scale(0.015625)\"/>\n       <path d=\"M 3597 1894 \nL 3597 1613 \nL 953 1613 \nQ 991 1019 1311 708 \nQ 1631 397 2203 397 \nQ 2534 397 2845 478 \nQ 3156 559 3463 722 \nL 3463 178 \nQ 3153 47 2828 -22 \nQ 2503 -91 2169 -91 \nQ 1331 -91 842 396 \nQ 353 884 353 1716 \nQ 353 2575 817 3079 \nQ 1281 3584 2069 3584 \nQ 2775 3584 3186 3129 \nQ 3597 2675 3597 1894 \nz\nM 3022 2063 \nQ 3016 2534 2758 2815 \nQ 2500 3097 2075 3097 \nQ 1594 3097 1305 2825 \nQ 1016 2553 972 2059 \nL 3022 2063 \nz\n\" id=\"DejaVuSans-65\" transform=\"scale(0.015625)\"/>\n      </defs>\n      <use xlink:href=\"#DejaVuSans-44\"/>\n      <use x=\"77.001953\" xlink:href=\"#DejaVuSans-61\"/>\n      <use x=\"138.28125\" xlink:href=\"#DejaVuSans-74\"/>\n      <use x=\"177.490234\" xlink:href=\"#DejaVuSans-65\"/>\n     </g>\n    </g>\n   </g>\n   <g id=\"matplotlib.axis_2\">\n    <g id=\"ytick_1\">\n     <g id=\"line2d_10\">\n      <defs>\n       <path d=\"M 0 0 \nL -3.5 0 \n\" id=\"m290757ab11\" style=\"stroke:#000000;stroke-width:0.8;\"/>\n      </defs>\n      <g>\n       <use style=\"stroke:#000000;stroke-width:0.8;\" x=\"59.690625\" xlink:href=\"#m290757ab11\" y=\"239.758125\"/>\n      </g>\n     </g>\n     <g id=\"text_11\">\n      <!-- 0 -->\n      <g transform=\"translate(46.328125 243.557344)scale(0.1 -0.1)\">\n       <use xlink:href=\"#DejaVuSans-30\"/>\n      </g>\n     </g>\n    </g>\n    <g id=\"ytick_2\">\n     <g id=\"line2d_11\">\n      <g>\n       <use style=\"stroke:#000000;stroke-width:0.8;\" x=\"59.690625\" xlink:href=\"#m290757ab11\" y=\"213.716159\"/>\n      </g>\n     </g>\n     <g id=\"text_12\">\n      <!-- 5000 -->\n      <g transform=\"translate(27.240625 217.515378)scale(0.1 -0.1)\">\n       <use xlink:href=\"#DejaVuSans-35\"/>\n       <use x=\"63.623047\" xlink:href=\"#DejaVuSans-30\"/>\n       <use x=\"127.246094\" xlink:href=\"#DejaVuSans-30\"/>\n       <use x=\"190.869141\" xlink:href=\"#DejaVuSans-30\"/>\n      </g>\n     </g>\n    </g>\n    <g id=\"ytick_3\">\n     <g id=\"line2d_12\">\n      <g>\n       <use style=\"stroke:#000000;stroke-width:0.8;\" x=\"59.690625\" xlink:href=\"#m290757ab11\" y=\"187.674193\"/>\n      </g>\n     </g>\n     <g id=\"text_13\">\n      <!-- 10000 -->\n      <g transform=\"translate(20.878125 191.473412)scale(0.1 -0.1)\">\n       <use xlink:href=\"#DejaVuSans-31\"/>\n       <use x=\"63.623047\" xlink:href=\"#DejaVuSans-30\"/>\n       <use x=\"127.246094\" xlink:href=\"#DejaVuSans-30\"/>\n       <use x=\"190.869141\" xlink:href=\"#DejaVuSans-30\"/>\n       <use x=\"254.492188\" xlink:href=\"#DejaVuSans-30\"/>\n      </g>\n     </g>\n    </g>\n    <g id=\"ytick_4\">\n     <g id=\"line2d_13\">\n      <g>\n       <use style=\"stroke:#000000;stroke-width:0.8;\" x=\"59.690625\" xlink:href=\"#m290757ab11\" y=\"161.632227\"/>\n      </g>\n     </g>\n     <g id=\"text_14\">\n      <!-- 15000 -->\n      <g transform=\"translate(20.878125 165.431446)scale(0.1 -0.1)\">\n       <use xlink:href=\"#DejaVuSans-31\"/>\n       <use x=\"63.623047\" xlink:href=\"#DejaVuSans-35\"/>\n       <use x=\"127.246094\" xlink:href=\"#DejaVuSans-30\"/>\n       <use x=\"190.869141\" xlink:href=\"#DejaVuSans-30\"/>\n       <use x=\"254.492188\" xlink:href=\"#DejaVuSans-30\"/>\n      </g>\n     </g>\n    </g>\n    <g id=\"ytick_5\">\n     <g id=\"line2d_14\">\n      <g>\n       <use style=\"stroke:#000000;stroke-width:0.8;\" x=\"59.690625\" xlink:href=\"#m290757ab11\" y=\"135.590261\"/>\n      </g>\n     </g>\n     <g id=\"text_15\">\n      <!-- 20000 -->\n      <g transform=\"translate(20.878125 139.389479)scale(0.1 -0.1)\">\n       <use xlink:href=\"#DejaVuSans-32\"/>\n       <use x=\"63.623047\" xlink:href=\"#DejaVuSans-30\"/>\n       <use x=\"127.246094\" xlink:href=\"#DejaVuSans-30\"/>\n       <use x=\"190.869141\" xlink:href=\"#DejaVuSans-30\"/>\n       <use x=\"254.492188\" xlink:href=\"#DejaVuSans-30\"/>\n      </g>\n     </g>\n    </g>\n    <g id=\"ytick_6\">\n     <g id=\"line2d_15\">\n      <g>\n       <use style=\"stroke:#000000;stroke-width:0.8;\" x=\"59.690625\" xlink:href=\"#m290757ab11\" y=\"109.548295\"/>\n      </g>\n     </g>\n     <g id=\"text_16\">\n      <!-- 25000 -->\n      <g transform=\"translate(20.878125 113.347513)scale(0.1 -0.1)\">\n       <use xlink:href=\"#DejaVuSans-32\"/>\n       <use x=\"63.623047\" xlink:href=\"#DejaVuSans-35\"/>\n       <use x=\"127.246094\" xlink:href=\"#DejaVuSans-30\"/>\n       <use x=\"190.869141\" xlink:href=\"#DejaVuSans-30\"/>\n       <use x=\"254.492188\" xlink:href=\"#DejaVuSans-30\"/>\n      </g>\n     </g>\n    </g>\n    <g id=\"ytick_7\">\n     <g id=\"line2d_16\">\n      <g>\n       <use style=\"stroke:#000000;stroke-width:0.8;\" x=\"59.690625\" xlink:href=\"#m290757ab11\" y=\"83.506329\"/>\n      </g>\n     </g>\n     <g id=\"text_17\">\n      <!-- 30000 -->\n      <g transform=\"translate(20.878125 87.305547)scale(0.1 -0.1)\">\n       <use xlink:href=\"#DejaVuSans-33\"/>\n       <use x=\"63.623047\" xlink:href=\"#DejaVuSans-30\"/>\n       <use x=\"127.246094\" xlink:href=\"#DejaVuSans-30\"/>\n       <use x=\"190.869141\" xlink:href=\"#DejaVuSans-30\"/>\n       <use x=\"254.492188\" xlink:href=\"#DejaVuSans-30\"/>\n      </g>\n     </g>\n    </g>\n    <g id=\"ytick_8\">\n     <g id=\"line2d_17\">\n      <g>\n       <use style=\"stroke:#000000;stroke-width:0.8;\" x=\"59.690625\" xlink:href=\"#m290757ab11\" y=\"57.464362\"/>\n      </g>\n     </g>\n     <g id=\"text_18\">\n      <!-- 35000 -->\n      <g transform=\"translate(20.878125 61.263581)scale(0.1 -0.1)\">\n       <use xlink:href=\"#DejaVuSans-33\"/>\n       <use x=\"63.623047\" xlink:href=\"#DejaVuSans-35\"/>\n       <use x=\"127.246094\" xlink:href=\"#DejaVuSans-30\"/>\n       <use x=\"190.869141\" xlink:href=\"#DejaVuSans-30\"/>\n       <use x=\"254.492188\" xlink:href=\"#DejaVuSans-30\"/>\n      </g>\n     </g>\n    </g>\n    <g id=\"ytick_9\">\n     <g id=\"line2d_18\">\n      <g>\n       <use style=\"stroke:#000000;stroke-width:0.8;\" x=\"59.690625\" xlink:href=\"#m290757ab11\" y=\"31.422396\"/>\n      </g>\n     </g>\n     <g id=\"text_19\">\n      <!-- 40000 -->\n      <g transform=\"translate(20.878125 35.221615)scale(0.1 -0.1)\">\n       <use xlink:href=\"#DejaVuSans-34\"/>\n       <use x=\"63.623047\" xlink:href=\"#DejaVuSans-30\"/>\n       <use x=\"127.246094\" xlink:href=\"#DejaVuSans-30\"/>\n       <use x=\"190.869141\" xlink:href=\"#DejaVuSans-30\"/>\n       <use x=\"254.492188\" xlink:href=\"#DejaVuSans-30\"/>\n      </g>\n     </g>\n    </g>\n    <g id=\"text_20\">\n     <!-- Number of articles -->\n     <g transform=\"translate(14.798438 177.41)rotate(-90)scale(0.1 -0.1)\">\n      <defs>\n       <path d=\"M 628 4666 \nL 1478 4666 \nL 3547 763 \nL 3547 4666 \nL 4159 4666 \nL 4159 0 \nL 3309 0 \nL 1241 3903 \nL 1241 0 \nL 628 0 \nL 628 4666 \nz\n\" id=\"DejaVuSans-4e\" transform=\"scale(0.015625)\"/>\n       <path d=\"M 544 1381 \nL 544 3500 \nL 1119 3500 \nL 1119 1403 \nQ 1119 906 1312 657 \nQ 1506 409 1894 409 \nQ 2359 409 2629 706 \nQ 2900 1003 2900 1516 \nL 2900 3500 \nL 3475 3500 \nL 3475 0 \nL 2900 0 \nL 2900 538 \nQ 2691 219 2414 64 \nQ 2138 -91 1772 -91 \nQ 1169 -91 856 284 \nQ 544 659 544 1381 \nz\nM 1991 3584 \nL 1991 3584 \nz\n\" id=\"DejaVuSans-75\" transform=\"scale(0.015625)\"/>\n       <path d=\"M 3328 2828 \nQ 3544 3216 3844 3400 \nQ 4144 3584 4550 3584 \nQ 5097 3584 5394 3201 \nQ 5691 2819 5691 2113 \nL 5691 0 \nL 5113 0 \nL 5113 2094 \nQ 5113 2597 4934 2840 \nQ 4756 3084 4391 3084 \nQ 3944 3084 3684 2787 \nQ 3425 2491 3425 1978 \nL 3425 0 \nL 2847 0 \nL 2847 2094 \nQ 2847 2600 2669 2842 \nQ 2491 3084 2119 3084 \nQ 1678 3084 1418 2786 \nQ 1159 2488 1159 1978 \nL 1159 0 \nL 581 0 \nL 581 3500 \nL 1159 3500 \nL 1159 2956 \nQ 1356 3278 1631 3431 \nQ 1906 3584 2284 3584 \nQ 2666 3584 2933 3390 \nQ 3200 3197 3328 2828 \nz\n\" id=\"DejaVuSans-6d\" transform=\"scale(0.015625)\"/>\n       <path d=\"M 3116 1747 \nQ 3116 2381 2855 2742 \nQ 2594 3103 2138 3103 \nQ 1681 3103 1420 2742 \nQ 1159 2381 1159 1747 \nQ 1159 1113 1420 752 \nQ 1681 391 2138 391 \nQ 2594 391 2855 752 \nQ 3116 1113 3116 1747 \nz\nM 1159 2969 \nQ 1341 3281 1617 3432 \nQ 1894 3584 2278 3584 \nQ 2916 3584 3314 3078 \nQ 3713 2572 3713 1747 \nQ 3713 922 3314 415 \nQ 2916 -91 2278 -91 \nQ 1894 -91 1617 61 \nQ 1341 213 1159 525 \nL 1159 0 \nL 581 0 \nL 581 4863 \nL 1159 4863 \nL 1159 2969 \nz\n\" id=\"DejaVuSans-62\" transform=\"scale(0.015625)\"/>\n       <path d=\"M 2631 2963 \nQ 2534 3019 2420 3045 \nQ 2306 3072 2169 3072 \nQ 1681 3072 1420 2755 \nQ 1159 2438 1159 1844 \nL 1159 0 \nL 581 0 \nL 581 3500 \nL 1159 3500 \nL 1159 2956 \nQ 1341 3275 1631 3429 \nQ 1922 3584 2338 3584 \nQ 2397 3584 2469 3576 \nQ 2541 3569 2628 3553 \nL 2631 2963 \nz\n\" id=\"DejaVuSans-72\" transform=\"scale(0.015625)\"/>\n       <path id=\"DejaVuSans-20\" transform=\"scale(0.015625)\"/>\n       <path d=\"M 1959 3097 \nQ 1497 3097 1228 2736 \nQ 959 2375 959 1747 \nQ 959 1119 1226 758 \nQ 1494 397 1959 397 \nQ 2419 397 2687 759 \nQ 2956 1122 2956 1747 \nQ 2956 2369 2687 2733 \nQ 2419 3097 1959 3097 \nz\nM 1959 3584 \nQ 2709 3584 3137 3096 \nQ 3566 2609 3566 1747 \nQ 3566 888 3137 398 \nQ 2709 -91 1959 -91 \nQ 1206 -91 779 398 \nQ 353 888 353 1747 \nQ 353 2609 779 3096 \nQ 1206 3584 1959 3584 \nz\n\" id=\"DejaVuSans-6f\" transform=\"scale(0.015625)\"/>\n       <path d=\"M 2375 4863 \nL 2375 4384 \nL 1825 4384 \nQ 1516 4384 1395 4259 \nQ 1275 4134 1275 3809 \nL 1275 3500 \nL 2222 3500 \nL 2222 3053 \nL 1275 3053 \nL 1275 0 \nL 697 0 \nL 697 3053 \nL 147 3053 \nL 147 3500 \nL 697 3500 \nL 697 3744 \nQ 697 4328 969 4595 \nQ 1241 4863 1831 4863 \nL 2375 4863 \nz\n\" id=\"DejaVuSans-66\" transform=\"scale(0.015625)\"/>\n       <path d=\"M 603 3500 \nL 1178 3500 \nL 1178 0 \nL 603 0 \nL 603 3500 \nz\nM 603 4863 \nL 1178 4863 \nL 1178 4134 \nL 603 4134 \nL 603 4863 \nz\n\" id=\"DejaVuSans-69\" transform=\"scale(0.015625)\"/>\n       <path d=\"M 3122 3366 \nL 3122 2828 \nQ 2878 2963 2633 3030 \nQ 2388 3097 2138 3097 \nQ 1578 3097 1268 2742 \nQ 959 2388 959 1747 \nQ 959 1106 1268 751 \nQ 1578 397 2138 397 \nQ 2388 397 2633 464 \nQ 2878 531 3122 666 \nL 3122 134 \nQ 2881 22 2623 -34 \nQ 2366 -91 2075 -91 \nQ 1284 -91 818 406 \nQ 353 903 353 1747 \nQ 353 2603 823 3093 \nQ 1294 3584 2113 3584 \nQ 2378 3584 2631 3529 \nQ 2884 3475 3122 3366 \nz\n\" id=\"DejaVuSans-63\" transform=\"scale(0.015625)\"/>\n       <path d=\"M 603 4863 \nL 1178 4863 \nL 1178 0 \nL 603 0 \nL 603 4863 \nz\n\" id=\"DejaVuSans-6c\" transform=\"scale(0.015625)\"/>\n       <path d=\"M 2834 3397 \nL 2834 2853 \nQ 2591 2978 2328 3040 \nQ 2066 3103 1784 3103 \nQ 1356 3103 1142 2972 \nQ 928 2841 928 2578 \nQ 928 2378 1081 2264 \nQ 1234 2150 1697 2047 \nL 1894 2003 \nQ 2506 1872 2764 1633 \nQ 3022 1394 3022 966 \nQ 3022 478 2636 193 \nQ 2250 -91 1575 -91 \nQ 1294 -91 989 -36 \nQ 684 19 347 128 \nL 347 722 \nQ 666 556 975 473 \nQ 1284 391 1588 391 \nQ 1994 391 2212 530 \nQ 2431 669 2431 922 \nQ 2431 1156 2273 1281 \nQ 2116 1406 1581 1522 \nL 1381 1569 \nQ 847 1681 609 1914 \nQ 372 2147 372 2553 \nQ 372 3047 722 3315 \nQ 1072 3584 1716 3584 \nQ 2034 3584 2315 3537 \nQ 2597 3491 2834 3397 \nz\n\" id=\"DejaVuSans-73\" transform=\"scale(0.015625)\"/>\n      </defs>\n      <use xlink:href=\"#DejaVuSans-4e\"/>\n      <use x=\"74.804688\" xlink:href=\"#DejaVuSans-75\"/>\n      <use x=\"138.183594\" xlink:href=\"#DejaVuSans-6d\"/>\n      <use x=\"235.595703\" xlink:href=\"#DejaVuSans-62\"/>\n      <use x=\"299.072266\" xlink:href=\"#DejaVuSans-65\"/>\n      <use x=\"360.595703\" xlink:href=\"#DejaVuSans-72\"/>\n      <use x=\"401.708984\" xlink:href=\"#DejaVuSans-20\"/>\n      <use x=\"433.496094\" xlink:href=\"#DejaVuSans-6f\"/>\n      <use x=\"494.677734\" xlink:href=\"#DejaVuSans-66\"/>\n      <use x=\"529.882812\" xlink:href=\"#DejaVuSans-20\"/>\n      <use x=\"561.669922\" xlink:href=\"#DejaVuSans-61\"/>\n      <use x=\"622.949219\" xlink:href=\"#DejaVuSans-72\"/>\n      <use x=\"664.0625\" xlink:href=\"#DejaVuSans-74\"/>\n      <use x=\"703.271484\" xlink:href=\"#DejaVuSans-69\"/>\n      <use x=\"731.054688\" xlink:href=\"#DejaVuSans-63\"/>\n      <use x=\"786.035156\" xlink:href=\"#DejaVuSans-6c\"/>\n      <use x=\"813.818359\" xlink:href=\"#DejaVuSans-65\"/>\n      <use x=\"875.341797\" xlink:href=\"#DejaVuSans-73\"/>\n     </g>\n    </g>\n   </g>\n   <g id=\"patch_12\">\n    <path d=\"M 59.690625 239.758125 \nL 59.690625 22.318125 \n\" style=\"fill:none;stroke:#000000;stroke-linecap:square;stroke-linejoin:miter;stroke-width:0.8;\"/>\n   </g>\n   <g id=\"patch_13\">\n    <path d=\"M 394.490625 239.758125 \nL 394.490625 22.318125 \n\" style=\"fill:none;stroke:#000000;stroke-linecap:square;stroke-linejoin:miter;stroke-width:0.8;\"/>\n   </g>\n   <g id=\"patch_14\">\n    <path d=\"M 59.690625 239.758125 \nL 394.490625 239.758125 \n\" style=\"fill:none;stroke:#000000;stroke-linecap:square;stroke-linejoin:miter;stroke-width:0.8;\"/>\n   </g>\n   <g id=\"patch_15\">\n    <path d=\"M 59.690625 22.318125 \nL 394.490625 22.318125 \n\" style=\"fill:none;stroke:#000000;stroke-linecap:square;stroke-linejoin:miter;stroke-width:0.8;\"/>\n   </g>\n   <g id=\"text_21\">\n    <!-- Distribution of articles with focus country -->\n    <g transform=\"translate(103.14 16.318125)scale(0.12 -0.12)\">\n     <defs>\n      <path d=\"M 3513 2113 \nL 3513 0 \nL 2938 0 \nL 2938 2094 \nQ 2938 2591 2744 2837 \nQ 2550 3084 2163 3084 \nQ 1697 3084 1428 2787 \nQ 1159 2491 1159 1978 \nL 1159 0 \nL 581 0 \nL 581 3500 \nL 1159 3500 \nL 1159 2956 \nQ 1366 3272 1645 3428 \nQ 1925 3584 2291 3584 \nQ 2894 3584 3203 3211 \nQ 3513 2838 3513 2113 \nz\n\" id=\"DejaVuSans-6e\" transform=\"scale(0.015625)\"/>\n      <path d=\"M 269 3500 \nL 844 3500 \nL 1563 769 \nL 2278 3500 \nL 2956 3500 \nL 3675 769 \nL 4391 3500 \nL 4966 3500 \nL 4050 0 \nL 3372 0 \nL 2619 2869 \nL 1863 0 \nL 1184 0 \nL 269 3500 \nz\n\" id=\"DejaVuSans-77\" transform=\"scale(0.015625)\"/>\n      <path d=\"M 3513 2113 \nL 3513 0 \nL 2938 0 \nL 2938 2094 \nQ 2938 2591 2744 2837 \nQ 2550 3084 2163 3084 \nQ 1697 3084 1428 2787 \nQ 1159 2491 1159 1978 \nL 1159 0 \nL 581 0 \nL 581 4863 \nL 1159 4863 \nL 1159 2956 \nQ 1366 3272 1645 3428 \nQ 1925 3584 2291 3584 \nQ 2894 3584 3203 3211 \nQ 3513 2838 3513 2113 \nz\n\" id=\"DejaVuSans-68\" transform=\"scale(0.015625)\"/>\n      <path d=\"M 2059 -325 \nQ 1816 -950 1584 -1140 \nQ 1353 -1331 966 -1331 \nL 506 -1331 \nL 506 -850 \nL 844 -850 \nQ 1081 -850 1212 -737 \nQ 1344 -625 1503 -206 \nL 1606 56 \nL 191 3500 \nL 800 3500 \nL 1894 763 \nL 2988 3500 \nL 3597 3500 \nL 2059 -325 \nz\n\" id=\"DejaVuSans-79\" transform=\"scale(0.015625)\"/>\n     </defs>\n     <use xlink:href=\"#DejaVuSans-44\"/>\n     <use x=\"77.001953\" xlink:href=\"#DejaVuSans-69\"/>\n     <use x=\"104.785156\" xlink:href=\"#DejaVuSans-73\"/>\n     <use x=\"156.884766\" xlink:href=\"#DejaVuSans-74\"/>\n     <use x=\"196.09375\" xlink:href=\"#DejaVuSans-72\"/>\n     <use x=\"237.207031\" xlink:href=\"#DejaVuSans-69\"/>\n     <use x=\"264.990234\" xlink:href=\"#DejaVuSans-62\"/>\n     <use x=\"328.466797\" xlink:href=\"#DejaVuSans-75\"/>\n     <use x=\"391.845703\" xlink:href=\"#DejaVuSans-74\"/>\n     <use x=\"431.054688\" xlink:href=\"#DejaVuSans-69\"/>\n     <use x=\"458.837891\" xlink:href=\"#DejaVuSans-6f\"/>\n     <use x=\"520.019531\" xlink:href=\"#DejaVuSans-6e\"/>\n     <use x=\"583.398438\" xlink:href=\"#DejaVuSans-20\"/>\n     <use x=\"615.185547\" xlink:href=\"#DejaVuSans-6f\"/>\n     <use x=\"676.367188\" xlink:href=\"#DejaVuSans-66\"/>\n     <use x=\"711.572266\" xlink:href=\"#DejaVuSans-20\"/>\n     <use x=\"743.359375\" xlink:href=\"#DejaVuSans-61\"/>\n     <use x=\"804.638672\" xlink:href=\"#DejaVuSans-72\"/>\n     <use x=\"845.751953\" xlink:href=\"#DejaVuSans-74\"/>\n     <use x=\"884.960938\" xlink:href=\"#DejaVuSans-69\"/>\n     <use x=\"912.744141\" xlink:href=\"#DejaVuSans-63\"/>\n     <use x=\"967.724609\" xlink:href=\"#DejaVuSans-6c\"/>\n     <use x=\"995.507812\" xlink:href=\"#DejaVuSans-65\"/>\n     <use x=\"1057.03125\" xlink:href=\"#DejaVuSans-73\"/>\n     <use x=\"1109.130859\" xlink:href=\"#DejaVuSans-20\"/>\n     <use x=\"1140.917969\" xlink:href=\"#DejaVuSans-77\"/>\n     <use x=\"1222.705078\" xlink:href=\"#DejaVuSans-69\"/>\n     <use x=\"1250.488281\" xlink:href=\"#DejaVuSans-74\"/>\n     <use x=\"1289.697266\" xlink:href=\"#DejaVuSans-68\"/>\n     <use x=\"1353.076172\" xlink:href=\"#DejaVuSans-20\"/>\n     <use x=\"1384.863281\" xlink:href=\"#DejaVuSans-66\"/>\n     <use x=\"1420.068359\" xlink:href=\"#DejaVuSans-6f\"/>\n     <use x=\"1481.25\" xlink:href=\"#DejaVuSans-63\"/>\n     <use x=\"1536.230469\" xlink:href=\"#DejaVuSans-75\"/>\n     <use x=\"1599.609375\" xlink:href=\"#DejaVuSans-73\"/>\n     <use x=\"1651.708984\" xlink:href=\"#DejaVuSans-20\"/>\n     <use x=\"1683.496094\" xlink:href=\"#DejaVuSans-63\"/>\n     <use x=\"1738.476562\" xlink:href=\"#DejaVuSans-6f\"/>\n     <use x=\"1799.658203\" xlink:href=\"#DejaVuSans-75\"/>\n     <use x=\"1863.037109\" xlink:href=\"#DejaVuSans-6e\"/>\n     <use x=\"1926.416016\" xlink:href=\"#DejaVuSans-74\"/>\n     <use x=\"1965.625\" xlink:href=\"#DejaVuSans-72\"/>\n     <use x=\"2006.738281\" xlink:href=\"#DejaVuSans-79\"/>\n    </g>\n   </g>\n  </g>\n </g>\n <defs>\n  <clipPath id=\"p1e7ebb4b48\">\n   <rect height=\"217.44\" width=\"334.8\" x=\"59.690625\" y=\"22.318125\"/>\n  </clipPath>\n </defs>\n</svg>\n",
      "image/png": "[encoded data removed]"
     },
     "metadata": {
      "needs_background": "light"
     }
    }
   ],
   "metadata": {}
  },
  {
   "cell_type": "code",
   "execution_count": 9,
   "source": [
    "# For rows with more than 1 country, duplicate them such that each row only contains one country\n",
    "dataset.rename(columns={'country_name': 'x', 'country_code': 'y'}, inplace=True)\n",
    "dataset = dataset.explode(list('xy'))\n",
    "dataset.rename(columns={'x': 'country_name', 'y': 'country_code'}, inplace=True)\n",
    "dataset.tail()"
   ],
   "outputs": [
    {
     "output_type": "execute_result",
     "data": {
      "text/plain": [
       "                                                     text           timestamp  \\\n",
       "449992  Marilyn Manson plans to release ‘DISPOSABLE TE... 2019-04-26 04:05:38   \n",
       "449994  LONDON (Reuters) - Core euro zone bond yields ... 2019-04-26 10:00:27   \n",
       "449997  The University of California, Davis has conduc... 2019-04-26 05:39:44   \n",
       "449998  KARACHI: Government ban on power generation fr... 2019-04-26 14:24:23   \n",
       "449999  SEATTLE — The University of Colorado football ... 2019-04-26 13:38:38   \n",
       "\n",
       "                                                      url  \\\n",
       "449992  https://www.nme.com/news/music/marilyn-manson-...   \n",
       "449994  https://uk.reuters.com/article/us-eurozone-bon...   \n",
       "449997           https://tahoe.ucdavis.edu/stateofthelake   \n",
       "449998  https://www.thenews.com.pk/print/163881-Ban-on...   \n",
       "449999  https://kdvr.com/2018/10/19/cu-looks-to-bounce...   \n",
       "\n",
       "                                              cities_list  \\\n",
       "449992  [{'score': 2, 'featureCode': 'PPLC', 'stateGeo...   \n",
       "449994  [{'score': 2, 'featureCode': 'PPLC', 'stateGeo...   \n",
       "449997  [{'score': 8, 'featureCode': 'PPL', 'stateGeoN...   \n",
       "449998  [{'score': 1, 'featureCode': 'PPLA', 'stateGeo...   \n",
       "449999  [{'score': 2, 'featureCode': 'PPLA2', 'stateGe...   \n",
       "\n",
       "                                              states_list  \\\n",
       "449992  [{'score': 2, 'featureCode': 'ADM1', 'stateGeo...   \n",
       "449994  [{'score': 2, 'featureCode': 'ADM1', 'stateGeo...   \n",
       "449997  [{'score': 9, 'featureCode': 'ADM1', 'stateGeo...   \n",
       "449998  [{'score': 2, 'featureCode': 'ADM1', 'stateGeo...   \n",
       "449999  [{'score': 3, 'featureCode': 'ADM1', 'stateGeo...   \n",
       "\n",
       "                                           countries_list  \\\n",
       "449992  [{'score': 5, 'featureCode': 'PCLI', 'stateGeo...   \n",
       "449994  [{'score': 2, 'featureCode': 'PCLI', 'stateGeo...   \n",
       "449997  [{'score': 14, 'featureCode': 'PCLI', 'stateGe...   \n",
       "449998  [{'score': 2, 'featureCode': 'PCLI', 'stateGeo...   \n",
       "449999  [{'score': 8, 'featureCode': 'PCLI', 'stateGeo...   \n",
       "\n",
       "                                             country_name country_code  \n",
       "449992  United Kingdom of Great Britain and Northern I...           GB  \n",
       "449994  United Kingdom of Great Britain and Northern I...           GB  \n",
       "449997                                      United States           US  \n",
       "449998                       Islamic Republic of Pakistan           PK  \n",
       "449999                                      United States           US  "
      ],
      "text/html": [
       "<div>\n",
       "<style scoped>\n",
       "    .dataframe tbody tr th:only-of-type {\n",
       "        vertical-align: middle;\n",
       "    }\n",
       "\n",
       "    .dataframe tbody tr th {\n",
       "        vertical-align: top;\n",
       "    }\n",
       "\n",
       "    .dataframe thead th {\n",
       "        text-align: right;\n",
       "    }\n",
       "</style>\n",
       "<table border=\"1\" class=\"dataframe\">\n",
       "  <thead>\n",
       "    <tr style=\"text-align: right;\">\n",
       "      <th></th>\n",
       "      <th>text</th>\n",
       "      <th>timestamp</th>\n",
       "      <th>url</th>\n",
       "      <th>cities_list</th>\n",
       "      <th>states_list</th>\n",
       "      <th>countries_list</th>\n",
       "      <th>country_name</th>\n",
       "      <th>country_code</th>\n",
       "    </tr>\n",
       "  </thead>\n",
       "  <tbody>\n",
       "    <tr>\n",
       "      <th>449992</th>\n",
       "      <td>Marilyn Manson plans to release ‘DISPOSABLE TE...</td>\n",
       "      <td>2019-04-26 04:05:38</td>\n",
       "      <td>https://www.nme.com/news/music/marilyn-manson-...</td>\n",
       "      <td>[{'score': 2, 'featureCode': 'PPLC', 'stateGeo...</td>\n",
       "      <td>[{'score': 2, 'featureCode': 'ADM1', 'stateGeo...</td>\n",
       "      <td>[{'score': 5, 'featureCode': 'PCLI', 'stateGeo...</td>\n",
       "      <td>United Kingdom of Great Britain and Northern I...</td>\n",
       "      <td>GB</td>\n",
       "    </tr>\n",
       "    <tr>\n",
       "      <th>449994</th>\n",
       "      <td>LONDON (Reuters) - Core euro zone bond yields ...</td>\n",
       "      <td>2019-04-26 10:00:27</td>\n",
       "      <td>https://uk.reuters.com/article/us-eurozone-bon...</td>\n",
       "      <td>[{'score': 2, 'featureCode': 'PPLC', 'stateGeo...</td>\n",
       "      <td>[{'score': 2, 'featureCode': 'ADM1', 'stateGeo...</td>\n",
       "      <td>[{'score': 2, 'featureCode': 'PCLI', 'stateGeo...</td>\n",
       "      <td>United Kingdom of Great Britain and Northern I...</td>\n",
       "      <td>GB</td>\n",
       "    </tr>\n",
       "    <tr>\n",
       "      <th>449997</th>\n",
       "      <td>The University of California, Davis has conduc...</td>\n",
       "      <td>2019-04-26 05:39:44</td>\n",
       "      <td>https://tahoe.ucdavis.edu/stateofthelake</td>\n",
       "      <td>[{'score': 8, 'featureCode': 'PPL', 'stateGeoN...</td>\n",
       "      <td>[{'score': 9, 'featureCode': 'ADM1', 'stateGeo...</td>\n",
       "      <td>[{'score': 14, 'featureCode': 'PCLI', 'stateGe...</td>\n",
       "      <td>United States</td>\n",
       "      <td>US</td>\n",
       "    </tr>\n",
       "    <tr>\n",
       "      <th>449998</th>\n",
       "      <td>KARACHI: Government ban on power generation fr...</td>\n",
       "      <td>2019-04-26 14:24:23</td>\n",
       "      <td>https://www.thenews.com.pk/print/163881-Ban-on...</td>\n",
       "      <td>[{'score': 1, 'featureCode': 'PPLA', 'stateGeo...</td>\n",
       "      <td>[{'score': 2, 'featureCode': 'ADM1', 'stateGeo...</td>\n",
       "      <td>[{'score': 2, 'featureCode': 'PCLI', 'stateGeo...</td>\n",
       "      <td>Islamic Republic of Pakistan</td>\n",
       "      <td>PK</td>\n",
       "    </tr>\n",
       "    <tr>\n",
       "      <th>449999</th>\n",
       "      <td>SEATTLE — The University of Colorado football ...</td>\n",
       "      <td>2019-04-26 13:38:38</td>\n",
       "      <td>https://kdvr.com/2018/10/19/cu-looks-to-bounce...</td>\n",
       "      <td>[{'score': 2, 'featureCode': 'PPLA2', 'stateGe...</td>\n",
       "      <td>[{'score': 3, 'featureCode': 'ADM1', 'stateGeo...</td>\n",
       "      <td>[{'score': 8, 'featureCode': 'PCLI', 'stateGeo...</td>\n",
       "      <td>United States</td>\n",
       "      <td>US</td>\n",
       "    </tr>\n",
       "  </tbody>\n",
       "</table>\n",
       "</div>"
      ]
     },
     "metadata": {},
     "execution_count": 9
    }
   ],
   "metadata": {}
  },
  {
   "cell_type": "code",
   "execution_count": 10,
   "source": [
    "country_count = dataset['country_code'].value_counts(dropna=False)\n",
    "country_count.to_json('C4 News Total Country Counts.json')"
   ],
   "outputs": [],
   "metadata": {}
  },
  {
   "cell_type": "code",
   "execution_count": 11,
   "source": [
    "country_count = country_count[:30,]\n",
    "plt.figure(figsize=(10,7))\n",
    "sns.barplot(y = country_count.index, x= country_count.values, alpha=0.8)\n",
    "plt.title('Top 30 Countries with Most Number of Articles')\n",
    "plt.xlabel('Number of Articles', fontsize=12)\n",
    "plt.ylabel('Countries', fontsize=12)\n",
    "# plt.grid()\n",
    "plt.show()"
   ],
   "outputs": [
    {
     "output_type": "display_data",
     "data": {
      "text/plain": [
       "<Figure size 720x504 with 1 Axes>"
      ],
      "image/svg+xml": "<?xml version=\"1.0\" encoding=\"utf-8\" standalone=\"no\"?>\n<!DOCTYPE svg PUBLIC \"-//W3C//DTD SVG 1.1//EN\"\n  \"http://www.w3.org/Graphics/SVG/1.1/DTD/svg11.dtd\">\n<svg height=\"442.33pt\" version=\"1.1\" viewBox=\"0 0 610.491875 442.33\" width=\"610.491875pt\" xmlns=\"http://www.w3.org/2000/svg\" xmlns:xlink=\"http://www.w3.org/1999/xlink\">\n <metadata>\n  <rdf:RDF xmlns:cc=\"http://creativecommons.org/ns#\" xmlns:dc=\"http://purl.org/dc/elements/1.1/\" xmlns:rdf=\"http://www.w3.org/1999/02/22-rdf-syntax-ns#\">\n   <cc:Work>\n    <dc:type rdf:resource=\"http://purl.org/dc/dcmitype/StillImage\"/>\n    <dc:date>2021-08-19T18:14:14.032163</dc:date>\n    <dc:format>image/svg+xml</dc:format>\n    <dc:creator>\n     <cc:Agent>\n      <dc:title>Matplotlib v3.4.2, https://matplotlib.org/</dc:title>\n     </cc:Agent>\n    </dc:creator>\n   </cc:Work>\n  </rdf:RDF>\n </metadata>\n <defs>\n  <style type=\"text/css\">*{stroke-linecap:butt;stroke-linejoin:round;}</style>\n </defs>\n <g id=\"figure_1\">\n  <g id=\"patch_1\">\n   <path d=\"M 0 442.33 \nL 610.491875 442.33 \nL 610.491875 0 \nL 0 0 \nz\n\" style=\"fill:none;\"/>\n  </g>\n  <g id=\"axes_1\">\n   <g id=\"patch_2\">\n    <path d=\"M 45.291875 402.838125 \nL 603.291875 402.838125 \nL 603.291875 22.318125 \nL 45.291875 22.318125 \nz\n\" style=\"fill:#ffffff;\"/>\n   </g>\n   <g id=\"patch_3\">\n    <path clip-path=\"url(#p9fe8aef7ad)\" d=\"M 45.291875 23.630263 \nL 576.720446 23.630263 \nL 576.720446 34.127366 \nL 45.291875 34.127366 \nz\n\" style=\"fill:#ea96a3;opacity:0.8;\"/>\n   </g>\n   <g id=\"patch_4\">\n    <path clip-path=\"url(#p9fe8aef7ad)\" d=\"M 45.291875 36.751642 \nL 135.345092 36.751642 \nL 135.345092 47.248746 \nL 45.291875 47.248746 \nz\n\" style=\"fill:#e99790;opacity:0.8;\"/>\n   </g>\n   <g id=\"patch_5\">\n    <path clip-path=\"url(#p9fe8aef7ad)\" d=\"M 45.291875 49.873022 \nL 76.345911 49.873022 \nL 76.345911 60.370125 \nL 45.291875 60.370125 \nz\n\" style=\"fill:#e4946d;opacity:0.8;\"/>\n   </g>\n   <g id=\"patch_6\">\n    <path clip-path=\"url(#p9fe8aef7ad)\" d=\"M 45.291875 62.994401 \nL 70.603929 62.994401 \nL 70.603929 73.491504 \nL 45.291875 73.491504 \nz\n\" style=\"fill:#d5954d;opacity:0.8;\"/>\n   </g>\n   <g id=\"patch_7\">\n    <path clip-path=\"url(#p9fe8aef7ad)\" d=\"M 45.291875 76.11578 \nL 69.525283 76.11578 \nL 69.525283 86.612884 \nL 45.291875 86.612884 \nz\n\" style=\"fill:#c4994b;opacity:0.8;\"/>\n   </g>\n   <g id=\"patch_8\">\n    <path clip-path=\"url(#p9fe8aef7ad)\" d=\"M 45.291875 89.237159 \nL 61.974763 89.237159 \nL 61.974763 99.734263 \nL 45.291875 99.734263 \nz\n\" style=\"fill:#b69c49;opacity:0.8;\"/>\n   </g>\n   <g id=\"patch_9\">\n    <path clip-path=\"url(#p9fe8aef7ad)\" d=\"M 45.291875 102.358539 \nL 56.740965 102.358539 \nL 56.740965 112.855642 \nL 45.291875 112.855642 \nz\n\" style=\"fill:#a99e47;opacity:0.8;\"/>\n   </g>\n   <g id=\"patch_10\">\n    <path clip-path=\"url(#p9fe8aef7ad)\" d=\"M 45.291875 115.479918 \nL 55.692212 115.479918 \nL 55.692212 125.977022 \nL 45.291875 125.977022 \nz\n\" style=\"fill:#9ba146;opacity:0.8;\"/>\n   </g>\n   <g id=\"patch_11\">\n    <path clip-path=\"url(#p9fe8aef7ad)\" d=\"M 45.291875 128.601297 \nL 54.914989 128.601297 \nL 54.914989 139.098401 \nL 45.291875 139.098401 \nz\n\" style=\"fill:#8da546;opacity:0.8;\"/>\n   </g>\n   <g id=\"patch_12\">\n    <path clip-path=\"url(#p9fe8aef7ad)\" d=\"M 45.291875 141.722677 \nL 53.833852 141.722677 \nL 53.833852 152.21978 \nL 45.291875 152.21978 \nz\n\" style=\"fill:#78aa47;opacity:0.8;\"/>\n   </g>\n   <g id=\"patch_13\">\n    <path clip-path=\"url(#p9fe8aef7ad)\" d=\"M 45.291875 154.844056 \nL 53.818906 154.844056 \nL 53.818906 165.341159 \nL 45.291875 165.341159 \nz\n\" style=\"fill:#4ab147;opacity:0.8;\"/>\n   </g>\n   <g id=\"patch_14\">\n    <path clip-path=\"url(#p9fe8aef7ad)\" d=\"M 45.291875 167.965435 \nL 53.37549 167.965435 \nL 53.37549 178.462539 \nL 45.291875 178.462539 \nz\n\" style=\"fill:#49af76;opacity:0.8;\"/>\n   </g>\n   <g id=\"patch_15\">\n    <path clip-path=\"url(#p9fe8aef7ad)\" d=\"M 45.291875 181.086815 \nL 53.03421 181.086815 \nL 53.03421 191.583918 \nL 45.291875 191.583918 \nz\n\" style=\"fill:#4aae89;opacity:0.8;\"/>\n   </g>\n   <g id=\"patch_16\">\n    <path clip-path=\"url(#p9fe8aef7ad)\" d=\"M 45.291875 194.208194 \nL 52.199692 194.208194 \nL 52.199692 204.705297 \nL 45.291875 204.705297 \nz\n\" style=\"fill:#4aad96;opacity:0.8;\"/>\n   </g>\n   <g id=\"patch_17\">\n    <path clip-path=\"url(#p9fe8aef7ad)\" d=\"M 45.291875 207.329573 \nL 51.502184 207.329573 \nL 51.502184 217.826677 \nL 45.291875 217.826677 \nz\n\" style=\"fill:#4baca0;opacity:0.8;\"/>\n   </g>\n   <g id=\"patch_18\">\n    <path clip-path=\"url(#p9fe8aef7ad)\" d=\"M 45.291875 220.450953 \nL 51.437415 220.450953 \nL 51.437415 230.948056 \nL 45.291875 230.948056 \nz\n\" style=\"fill:#4baba8;opacity:0.8;\"/>\n   </g>\n   <g id=\"patch_19\">\n    <path clip-path=\"url(#p9fe8aef7ad)\" d=\"M 45.291875 233.572332 \nL 51.340263 233.572332 \nL 51.340263 244.069435 \nL 45.291875 244.069435 \nz\n\" style=\"fill:#4dabb2;opacity:0.8;\"/>\n   </g>\n   <g id=\"patch_20\">\n    <path clip-path=\"url(#p9fe8aef7ad)\" d=\"M 45.291875 246.693711 \nL 51.310369 246.693711 \nL 51.310369 257.190815 \nL 45.291875 257.190815 \nz\n\" style=\"fill:#4facbd;opacity:0.8;\"/>\n   </g>\n   <g id=\"patch_21\">\n    <path clip-path=\"url(#p9fe8aef7ad)\" d=\"M 45.291875 259.815091 \nL 50.916776 259.815091 \nL 50.916776 270.312194 \nL 45.291875 270.312194 \nz\n\" style=\"fill:#52accb;opacity:0.8;\"/>\n   </g>\n   <g id=\"patch_22\">\n    <path clip-path=\"url(#p9fe8aef7ad)\" d=\"M 45.291875 272.93647 \nL 50.814641 272.93647 \nL 50.814641 283.433573 \nL 45.291875 283.433573 \nz\n\" style=\"fill:#57addf;opacity:0.8;\"/>\n   </g>\n   <g id=\"patch_23\">\n    <path clip-path=\"url(#p9fe8aef7ad)\" d=\"M 45.291875 286.057849 \nL 50.460905 286.057849 \nL 50.460905 296.554953 \nL 45.291875 296.554953 \nz\n\" style=\"fill:#8aaee7;opacity:0.8;\"/>\n   </g>\n   <g id=\"patch_24\">\n    <path clip-path=\"url(#p9fe8aef7ad)\" d=\"M 45.291875 299.179228 \nL 49.830657 299.179228 \nL 49.830657 309.676332 \nL 45.291875 309.676332 \nz\n\" style=\"fill:#a7aceb;opacity:0.8;\"/>\n   </g>\n   <g id=\"patch_25\">\n    <path clip-path=\"url(#p9fe8aef7ad)\" d=\"M 45.291875 312.300608 \nL 49.546672 312.300608 \nL 49.546672 322.797711 \nL 45.291875 322.797711 \nz\n\" style=\"fill:#baa6ea;opacity:0.8;\"/>\n   </g>\n   <g id=\"patch_26\">\n    <path clip-path=\"url(#p9fe8aef7ad)\" d=\"M 45.291875 325.421987 \nL 49.305035 325.421987 \nL 49.305035 335.919091 \nL 45.291875 335.919091 \nz\n\" style=\"fill:#cb9de9;opacity:0.8;\"/>\n   </g>\n   <g id=\"patch_27\">\n    <path clip-path=\"url(#p9fe8aef7ad)\" d=\"M 45.291875 338.543366 \nL 48.948808 338.543366 \nL 48.948808 349.04047 \nL 45.291875 349.04047 \nz\n\" style=\"fill:#dc92e8;opacity:0.8;\"/>\n   </g>\n   <g id=\"patch_28\">\n    <path clip-path=\"url(#p9fe8aef7ad)\" d=\"M 45.291875 351.664746 \nL 48.806815 351.664746 \nL 48.806815 362.161849 \nL 45.291875 362.161849 \nz\n\" style=\"fill:#e78bde;opacity:0.8;\"/>\n   </g>\n   <g id=\"patch_29\">\n    <path clip-path=\"url(#p9fe8aef7ad)\" d=\"M 45.291875 364.786125 \nL 48.74952 364.786125 \nL 48.74952 375.283228 \nL 45.291875 375.283228 \nz\n\" style=\"fill:#e88ece;opacity:0.8;\"/>\n   </g>\n   <g id=\"patch_30\">\n    <path clip-path=\"url(#p9fe8aef7ad)\" d=\"M 45.291875 377.907504 \nL 48.54525 377.907504 \nL 48.54525 388.404608 \nL 45.291875 388.404608 \nz\n\" style=\"fill:#e891c0;opacity:0.8;\"/>\n   </g>\n   <g id=\"patch_31\">\n    <path clip-path=\"url(#p9fe8aef7ad)\" d=\"M 45.291875 391.028884 \nL 48.542759 391.028884 \nL 48.542759 401.525987 \nL 45.291875 401.525987 \nz\n\" style=\"fill:#e994b3;opacity:0.8;\"/>\n   </g>\n   <g id=\"matplotlib.axis_1\">\n    <g id=\"xtick_1\">\n     <g id=\"line2d_1\">\n      <defs>\n       <path d=\"M 0 0 \nL 0 3.5 \n\" id=\"m6eeaed6ebc\" style=\"stroke:#000000;stroke-width:0.8;\"/>\n      </defs>\n      <g>\n       <use style=\"stroke:#000000;stroke-width:0.8;\" x=\"45.291875\" xlink:href=\"#m6eeaed6ebc\" y=\"402.838125\"/>\n      </g>\n     </g>\n     <g id=\"text_1\">\n      <!-- 0 -->\n      <g transform=\"translate(42.110625 417.436562)scale(0.1 -0.1)\">\n       <defs>\n        <path d=\"M 2034 4250 \nQ 1547 4250 1301 3770 \nQ 1056 3291 1056 2328 \nQ 1056 1369 1301 889 \nQ 1547 409 2034 409 \nQ 2525 409 2770 889 \nQ 3016 1369 3016 2328 \nQ 3016 3291 2770 3770 \nQ 2525 4250 2034 4250 \nz\nM 2034 4750 \nQ 2819 4750 3233 4129 \nQ 3647 3509 3647 2328 \nQ 3647 1150 3233 529 \nQ 2819 -91 2034 -91 \nQ 1250 -91 836 529 \nQ 422 1150 422 2328 \nQ 422 3509 836 4129 \nQ 1250 4750 2034 4750 \nz\n\" id=\"DejaVuSans-30\" transform=\"scale(0.015625)\"/>\n       </defs>\n       <use xlink:href=\"#DejaVuSans-30\"/>\n      </g>\n     </g>\n    </g>\n    <g id=\"xtick_2\">\n     <g id=\"line2d_2\">\n      <g>\n       <use style=\"stroke:#000000;stroke-width:0.8;\" x=\"107.569342\" xlink:href=\"#m6eeaed6ebc\" y=\"402.838125\"/>\n      </g>\n     </g>\n     <g id=\"text_2\">\n      <!-- 25000 -->\n      <g transform=\"translate(91.663092 417.436562)scale(0.1 -0.1)\">\n       <defs>\n        <path d=\"M 1228 531 \nL 3431 531 \nL 3431 0 \nL 469 0 \nL 469 531 \nQ 828 903 1448 1529 \nQ 2069 2156 2228 2338 \nQ 2531 2678 2651 2914 \nQ 2772 3150 2772 3378 \nQ 2772 3750 2511 3984 \nQ 2250 4219 1831 4219 \nQ 1534 4219 1204 4116 \nQ 875 4013 500 3803 \nL 500 4441 \nQ 881 4594 1212 4672 \nQ 1544 4750 1819 4750 \nQ 2544 4750 2975 4387 \nQ 3406 4025 3406 3419 \nQ 3406 3131 3298 2873 \nQ 3191 2616 2906 2266 \nQ 2828 2175 2409 1742 \nQ 1991 1309 1228 531 \nz\n\" id=\"DejaVuSans-32\" transform=\"scale(0.015625)\"/>\n        <path d=\"M 691 4666 \nL 3169 4666 \nL 3169 4134 \nL 1269 4134 \nL 1269 2991 \nQ 1406 3038 1543 3061 \nQ 1681 3084 1819 3084 \nQ 2600 3084 3056 2656 \nQ 3513 2228 3513 1497 \nQ 3513 744 3044 326 \nQ 2575 -91 1722 -91 \nQ 1428 -91 1123 -41 \nQ 819 9 494 109 \nL 494 744 \nQ 775 591 1075 516 \nQ 1375 441 1709 441 \nQ 2250 441 2565 725 \nQ 2881 1009 2881 1497 \nQ 2881 1984 2565 2268 \nQ 2250 2553 1709 2553 \nQ 1456 2553 1204 2497 \nQ 953 2441 691 2322 \nL 691 4666 \nz\n\" id=\"DejaVuSans-35\" transform=\"scale(0.015625)\"/>\n       </defs>\n       <use xlink:href=\"#DejaVuSans-32\"/>\n       <use x=\"63.623047\" xlink:href=\"#DejaVuSans-35\"/>\n       <use x=\"127.246094\" xlink:href=\"#DejaVuSans-30\"/>\n       <use x=\"190.869141\" xlink:href=\"#DejaVuSans-30\"/>\n       <use x=\"254.492188\" xlink:href=\"#DejaVuSans-30\"/>\n      </g>\n     </g>\n    </g>\n    <g id=\"xtick_3\">\n     <g id=\"line2d_3\">\n      <g>\n       <use style=\"stroke:#000000;stroke-width:0.8;\" x=\"169.846809\" xlink:href=\"#m6eeaed6ebc\" y=\"402.838125\"/>\n      </g>\n     </g>\n     <g id=\"text_3\">\n      <!-- 50000 -->\n      <g transform=\"translate(153.940559 417.436562)scale(0.1 -0.1)\">\n       <use xlink:href=\"#DejaVuSans-35\"/>\n       <use x=\"63.623047\" xlink:href=\"#DejaVuSans-30\"/>\n       <use x=\"127.246094\" xlink:href=\"#DejaVuSans-30\"/>\n       <use x=\"190.869141\" xlink:href=\"#DejaVuSans-30\"/>\n       <use x=\"254.492188\" xlink:href=\"#DejaVuSans-30\"/>\n      </g>\n     </g>\n    </g>\n    <g id=\"xtick_4\">\n     <g id=\"line2d_4\">\n      <g>\n       <use style=\"stroke:#000000;stroke-width:0.8;\" x=\"232.124276\" xlink:href=\"#m6eeaed6ebc\" y=\"402.838125\"/>\n      </g>\n     </g>\n     <g id=\"text_4\">\n      <!-- 75000 -->\n      <g transform=\"translate(216.218026 417.436562)scale(0.1 -0.1)\">\n       <defs>\n        <path d=\"M 525 4666 \nL 3525 4666 \nL 3525 4397 \nL 1831 0 \nL 1172 0 \nL 2766 4134 \nL 525 4134 \nL 525 4666 \nz\n\" id=\"DejaVuSans-37\" transform=\"scale(0.015625)\"/>\n       </defs>\n       <use xlink:href=\"#DejaVuSans-37\"/>\n       <use x=\"63.623047\" xlink:href=\"#DejaVuSans-35\"/>\n       <use x=\"127.246094\" xlink:href=\"#DejaVuSans-30\"/>\n       <use x=\"190.869141\" xlink:href=\"#DejaVuSans-30\"/>\n       <use x=\"254.492188\" xlink:href=\"#DejaVuSans-30\"/>\n      </g>\n     </g>\n    </g>\n    <g id=\"xtick_5\">\n     <g id=\"line2d_5\">\n      <g>\n       <use style=\"stroke:#000000;stroke-width:0.8;\" x=\"294.401742\" xlink:href=\"#m6eeaed6ebc\" y=\"402.838125\"/>\n      </g>\n     </g>\n     <g id=\"text_5\">\n      <!-- 100000 -->\n      <g transform=\"translate(275.314242 417.436562)scale(0.1 -0.1)\">\n       <defs>\n        <path d=\"M 794 531 \nL 1825 531 \nL 1825 4091 \nL 703 3866 \nL 703 4441 \nL 1819 4666 \nL 2450 4666 \nL 2450 531 \nL 3481 531 \nL 3481 0 \nL 794 0 \nL 794 531 \nz\n\" id=\"DejaVuSans-31\" transform=\"scale(0.015625)\"/>\n       </defs>\n       <use xlink:href=\"#DejaVuSans-31\"/>\n       <use x=\"63.623047\" xlink:href=\"#DejaVuSans-30\"/>\n       <use x=\"127.246094\" xlink:href=\"#DejaVuSans-30\"/>\n       <use x=\"190.869141\" xlink:href=\"#DejaVuSans-30\"/>\n       <use x=\"254.492188\" xlink:href=\"#DejaVuSans-30\"/>\n       <use x=\"318.115234\" xlink:href=\"#DejaVuSans-30\"/>\n      </g>\n     </g>\n    </g>\n    <g id=\"xtick_6\">\n     <g id=\"line2d_6\">\n      <g>\n       <use style=\"stroke:#000000;stroke-width:0.8;\" x=\"356.679209\" xlink:href=\"#m6eeaed6ebc\" y=\"402.838125\"/>\n      </g>\n     </g>\n     <g id=\"text_6\">\n      <!-- 125000 -->\n      <g transform=\"translate(337.591709 417.436562)scale(0.1 -0.1)\">\n       <use xlink:href=\"#DejaVuSans-31\"/>\n       <use x=\"63.623047\" xlink:href=\"#DejaVuSans-32\"/>\n       <use x=\"127.246094\" xlink:href=\"#DejaVuSans-35\"/>\n       <use x=\"190.869141\" xlink:href=\"#DejaVuSans-30\"/>\n       <use x=\"254.492188\" xlink:href=\"#DejaVuSans-30\"/>\n       <use x=\"318.115234\" xlink:href=\"#DejaVuSans-30\"/>\n      </g>\n     </g>\n    </g>\n    <g id=\"xtick_7\">\n     <g id=\"line2d_7\">\n      <g>\n       <use style=\"stroke:#000000;stroke-width:0.8;\" x=\"418.956676\" xlink:href=\"#m6eeaed6ebc\" y=\"402.838125\"/>\n      </g>\n     </g>\n     <g id=\"text_7\">\n      <!-- 150000 -->\n      <g transform=\"translate(399.869176 417.436562)scale(0.1 -0.1)\">\n       <use xlink:href=\"#DejaVuSans-31\"/>\n       <use x=\"63.623047\" xlink:href=\"#DejaVuSans-35\"/>\n       <use x=\"127.246094\" xlink:href=\"#DejaVuSans-30\"/>\n       <use x=\"190.869141\" xlink:href=\"#DejaVuSans-30\"/>\n       <use x=\"254.492188\" xlink:href=\"#DejaVuSans-30\"/>\n       <use x=\"318.115234\" xlink:href=\"#DejaVuSans-30\"/>\n      </g>\n     </g>\n    </g>\n    <g id=\"xtick_8\">\n     <g id=\"line2d_8\">\n      <g>\n       <use style=\"stroke:#000000;stroke-width:0.8;\" x=\"481.234143\" xlink:href=\"#m6eeaed6ebc\" y=\"402.838125\"/>\n      </g>\n     </g>\n     <g id=\"text_8\">\n      <!-- 175000 -->\n      <g transform=\"translate(462.146643 417.436562)scale(0.1 -0.1)\">\n       <use xlink:href=\"#DejaVuSans-31\"/>\n       <use x=\"63.623047\" xlink:href=\"#DejaVuSans-37\"/>\n       <use x=\"127.246094\" xlink:href=\"#DejaVuSans-35\"/>\n       <use x=\"190.869141\" xlink:href=\"#DejaVuSans-30\"/>\n       <use x=\"254.492188\" xlink:href=\"#DejaVuSans-30\"/>\n       <use x=\"318.115234\" xlink:href=\"#DejaVuSans-30\"/>\n      </g>\n     </g>\n    </g>\n    <g id=\"xtick_9\">\n     <g id=\"line2d_9\">\n      <g>\n       <use style=\"stroke:#000000;stroke-width:0.8;\" x=\"543.51161\" xlink:href=\"#m6eeaed6ebc\" y=\"402.838125\"/>\n      </g>\n     </g>\n     <g id=\"text_9\">\n      <!-- 200000 -->\n      <g transform=\"translate(524.42411 417.436562)scale(0.1 -0.1)\">\n       <use xlink:href=\"#DejaVuSans-32\"/>\n       <use x=\"63.623047\" xlink:href=\"#DejaVuSans-30\"/>\n       <use x=\"127.246094\" xlink:href=\"#DejaVuSans-30\"/>\n       <use x=\"190.869141\" xlink:href=\"#DejaVuSans-30\"/>\n       <use x=\"254.492188\" xlink:href=\"#DejaVuSans-30\"/>\n       <use x=\"318.115234\" xlink:href=\"#DejaVuSans-30\"/>\n      </g>\n     </g>\n    </g>\n    <g id=\"text_10\">\n     <!-- Number of Articles -->\n     <g transform=\"translate(268.218125 432.634375)scale(0.12 -0.12)\">\n      <defs>\n       <path d=\"M 628 4666 \nL 1478 4666 \nL 3547 763 \nL 3547 4666 \nL 4159 4666 \nL 4159 0 \nL 3309 0 \nL 1241 3903 \nL 1241 0 \nL 628 0 \nL 628 4666 \nz\n\" id=\"DejaVuSans-4e\" transform=\"scale(0.015625)\"/>\n       <path d=\"M 544 1381 \nL 544 3500 \nL 1119 3500 \nL 1119 1403 \nQ 1119 906 1312 657 \nQ 1506 409 1894 409 \nQ 2359 409 2629 706 \nQ 2900 1003 2900 1516 \nL 2900 3500 \nL 3475 3500 \nL 3475 0 \nL 2900 0 \nL 2900 538 \nQ 2691 219 2414 64 \nQ 2138 -91 1772 -91 \nQ 1169 -91 856 284 \nQ 544 659 544 1381 \nz\nM 1991 3584 \nL 1991 3584 \nz\n\" id=\"DejaVuSans-75\" transform=\"scale(0.015625)\"/>\n       <path d=\"M 3328 2828 \nQ 3544 3216 3844 3400 \nQ 4144 3584 4550 3584 \nQ 5097 3584 5394 3201 \nQ 5691 2819 5691 2113 \nL 5691 0 \nL 5113 0 \nL 5113 2094 \nQ 5113 2597 4934 2840 \nQ 4756 3084 4391 3084 \nQ 3944 3084 3684 2787 \nQ 3425 2491 3425 1978 \nL 3425 0 \nL 2847 0 \nL 2847 2094 \nQ 2847 2600 2669 2842 \nQ 2491 3084 2119 3084 \nQ 1678 3084 1418 2786 \nQ 1159 2488 1159 1978 \nL 1159 0 \nL 581 0 \nL 581 3500 \nL 1159 3500 \nL 1159 2956 \nQ 1356 3278 1631 3431 \nQ 1906 3584 2284 3584 \nQ 2666 3584 2933 3390 \nQ 3200 3197 3328 2828 \nz\n\" id=\"DejaVuSans-6d\" transform=\"scale(0.015625)\"/>\n       <path d=\"M 3116 1747 \nQ 3116 2381 2855 2742 \nQ 2594 3103 2138 3103 \nQ 1681 3103 1420 2742 \nQ 1159 2381 1159 1747 \nQ 1159 1113 1420 752 \nQ 1681 391 2138 391 \nQ 2594 391 2855 752 \nQ 3116 1113 3116 1747 \nz\nM 1159 2969 \nQ 1341 3281 1617 3432 \nQ 1894 3584 2278 3584 \nQ 2916 3584 3314 3078 \nQ 3713 2572 3713 1747 \nQ 3713 922 3314 415 \nQ 2916 -91 2278 -91 \nQ 1894 -91 1617 61 \nQ 1341 213 1159 525 \nL 1159 0 \nL 581 0 \nL 581 4863 \nL 1159 4863 \nL 1159 2969 \nz\n\" id=\"DejaVuSans-62\" transform=\"scale(0.015625)\"/>\n       <path d=\"M 3597 1894 \nL 3597 1613 \nL 953 1613 \nQ 991 1019 1311 708 \nQ 1631 397 2203 397 \nQ 2534 397 2845 478 \nQ 3156 559 3463 722 \nL 3463 178 \nQ 3153 47 2828 -22 \nQ 2503 -91 2169 -91 \nQ 1331 -91 842 396 \nQ 353 884 353 1716 \nQ 353 2575 817 3079 \nQ 1281 3584 2069 3584 \nQ 2775 3584 3186 3129 \nQ 3597 2675 3597 1894 \nz\nM 3022 2063 \nQ 3016 2534 2758 2815 \nQ 2500 3097 2075 3097 \nQ 1594 3097 1305 2825 \nQ 1016 2553 972 2059 \nL 3022 2063 \nz\n\" id=\"DejaVuSans-65\" transform=\"scale(0.015625)\"/>\n       <path d=\"M 2631 2963 \nQ 2534 3019 2420 3045 \nQ 2306 3072 2169 3072 \nQ 1681 3072 1420 2755 \nQ 1159 2438 1159 1844 \nL 1159 0 \nL 581 0 \nL 581 3500 \nL 1159 3500 \nL 1159 2956 \nQ 1341 3275 1631 3429 \nQ 1922 3584 2338 3584 \nQ 2397 3584 2469 3576 \nQ 2541 3569 2628 3553 \nL 2631 2963 \nz\n\" id=\"DejaVuSans-72\" transform=\"scale(0.015625)\"/>\n       <path id=\"DejaVuSans-20\" transform=\"scale(0.015625)\"/>\n       <path d=\"M 1959 3097 \nQ 1497 3097 1228 2736 \nQ 959 2375 959 1747 \nQ 959 1119 1226 758 \nQ 1494 397 1959 397 \nQ 2419 397 2687 759 \nQ 2956 1122 2956 1747 \nQ 2956 2369 2687 2733 \nQ 2419 3097 1959 3097 \nz\nM 1959 3584 \nQ 2709 3584 3137 3096 \nQ 3566 2609 3566 1747 \nQ 3566 888 3137 398 \nQ 2709 -91 1959 -91 \nQ 1206 -91 779 398 \nQ 353 888 353 1747 \nQ 353 2609 779 3096 \nQ 1206 3584 1959 3584 \nz\n\" id=\"DejaVuSans-6f\" transform=\"scale(0.015625)\"/>\n       <path d=\"M 2375 4863 \nL 2375 4384 \nL 1825 4384 \nQ 1516 4384 1395 4259 \nQ 1275 4134 1275 3809 \nL 1275 3500 \nL 2222 3500 \nL 2222 3053 \nL 1275 3053 \nL 1275 0 \nL 697 0 \nL 697 3053 \nL 147 3053 \nL 147 3500 \nL 697 3500 \nL 697 3744 \nQ 697 4328 969 4595 \nQ 1241 4863 1831 4863 \nL 2375 4863 \nz\n\" id=\"DejaVuSans-66\" transform=\"scale(0.015625)\"/>\n       <path d=\"M 2188 4044 \nL 1331 1722 \nL 3047 1722 \nL 2188 4044 \nz\nM 1831 4666 \nL 2547 4666 \nL 4325 0 \nL 3669 0 \nL 3244 1197 \nL 1141 1197 \nL 716 0 \nL 50 0 \nL 1831 4666 \nz\n\" id=\"DejaVuSans-41\" transform=\"scale(0.015625)\"/>\n       <path d=\"M 1172 4494 \nL 1172 3500 \nL 2356 3500 \nL 2356 3053 \nL 1172 3053 \nL 1172 1153 \nQ 1172 725 1289 603 \nQ 1406 481 1766 481 \nL 2356 481 \nL 2356 0 \nL 1766 0 \nQ 1100 0 847 248 \nQ 594 497 594 1153 \nL 594 3053 \nL 172 3053 \nL 172 3500 \nL 594 3500 \nL 594 4494 \nL 1172 4494 \nz\n\" id=\"DejaVuSans-74\" transform=\"scale(0.015625)\"/>\n       <path d=\"M 603 3500 \nL 1178 3500 \nL 1178 0 \nL 603 0 \nL 603 3500 \nz\nM 603 4863 \nL 1178 4863 \nL 1178 4134 \nL 603 4134 \nL 603 4863 \nz\n\" id=\"DejaVuSans-69\" transform=\"scale(0.015625)\"/>\n       <path d=\"M 3122 3366 \nL 3122 2828 \nQ 2878 2963 2633 3030 \nQ 2388 3097 2138 3097 \nQ 1578 3097 1268 2742 \nQ 959 2388 959 1747 \nQ 959 1106 1268 751 \nQ 1578 397 2138 397 \nQ 2388 397 2633 464 \nQ 2878 531 3122 666 \nL 3122 134 \nQ 2881 22 2623 -34 \nQ 2366 -91 2075 -91 \nQ 1284 -91 818 406 \nQ 353 903 353 1747 \nQ 353 2603 823 3093 \nQ 1294 3584 2113 3584 \nQ 2378 3584 2631 3529 \nQ 2884 3475 3122 3366 \nz\n\" id=\"DejaVuSans-63\" transform=\"scale(0.015625)\"/>\n       <path d=\"M 603 4863 \nL 1178 4863 \nL 1178 0 \nL 603 0 \nL 603 4863 \nz\n\" id=\"DejaVuSans-6c\" transform=\"scale(0.015625)\"/>\n       <path d=\"M 2834 3397 \nL 2834 2853 \nQ 2591 2978 2328 3040 \nQ 2066 3103 1784 3103 \nQ 1356 3103 1142 2972 \nQ 928 2841 928 2578 \nQ 928 2378 1081 2264 \nQ 1234 2150 1697 2047 \nL 1894 2003 \nQ 2506 1872 2764 1633 \nQ 3022 1394 3022 966 \nQ 3022 478 2636 193 \nQ 2250 -91 1575 -91 \nQ 1294 -91 989 -36 \nQ 684 19 347 128 \nL 347 722 \nQ 666 556 975 473 \nQ 1284 391 1588 391 \nQ 1994 391 2212 530 \nQ 2431 669 2431 922 \nQ 2431 1156 2273 1281 \nQ 2116 1406 1581 1522 \nL 1381 1569 \nQ 847 1681 609 1914 \nQ 372 2147 372 2553 \nQ 372 3047 722 3315 \nQ 1072 3584 1716 3584 \nQ 2034 3584 2315 3537 \nQ 2597 3491 2834 3397 \nz\n\" id=\"DejaVuSans-73\" transform=\"scale(0.015625)\"/>\n      </defs>\n      <use xlink:href=\"#DejaVuSans-4e\"/>\n      <use x=\"74.804688\" xlink:href=\"#DejaVuSans-75\"/>\n      <use x=\"138.183594\" xlink:href=\"#DejaVuSans-6d\"/>\n      <use x=\"235.595703\" xlink:href=\"#DejaVuSans-62\"/>\n      <use x=\"299.072266\" xlink:href=\"#DejaVuSans-65\"/>\n      <use x=\"360.595703\" xlink:href=\"#DejaVuSans-72\"/>\n      <use x=\"401.708984\" xlink:href=\"#DejaVuSans-20\"/>\n      <use x=\"433.496094\" xlink:href=\"#DejaVuSans-6f\"/>\n      <use x=\"494.677734\" xlink:href=\"#DejaVuSans-66\"/>\n      <use x=\"529.882812\" xlink:href=\"#DejaVuSans-20\"/>\n      <use x=\"561.669922\" xlink:href=\"#DejaVuSans-41\"/>\n      <use x=\"630.078125\" xlink:href=\"#DejaVuSans-72\"/>\n      <use x=\"671.191406\" xlink:href=\"#DejaVuSans-74\"/>\n      <use x=\"710.400391\" xlink:href=\"#DejaVuSans-69\"/>\n      <use x=\"738.183594\" xlink:href=\"#DejaVuSans-63\"/>\n      <use x=\"793.164062\" xlink:href=\"#DejaVuSans-6c\"/>\n      <use x=\"820.947266\" xlink:href=\"#DejaVuSans-65\"/>\n      <use x=\"882.470703\" xlink:href=\"#DejaVuSans-73\"/>\n     </g>\n    </g>\n   </g>\n   <g id=\"matplotlib.axis_2\">\n    <g id=\"ytick_1\">\n     <g id=\"line2d_10\">\n      <defs>\n       <path d=\"M 0 0 \nL -3.5 0 \n\" id=\"md2177f6e95\" style=\"stroke:#000000;stroke-width:0.8;\"/>\n      </defs>\n      <g>\n       <use style=\"stroke:#000000;stroke-width:0.8;\" x=\"45.291875\" xlink:href=\"#md2177f6e95\" y=\"28.878815\"/>\n      </g>\n     </g>\n     <g id=\"text_11\">\n      <!-- US -->\n      <g transform=\"translate(24.624688 32.678033)scale(0.1 -0.1)\">\n       <defs>\n        <path d=\"M 556 4666 \nL 1191 4666 \nL 1191 1831 \nQ 1191 1081 1462 751 \nQ 1734 422 2344 422 \nQ 2950 422 3222 751 \nQ 3494 1081 3494 1831 \nL 3494 4666 \nL 4128 4666 \nL 4128 1753 \nQ 4128 841 3676 375 \nQ 3225 -91 2344 -91 \nQ 1459 -91 1007 375 \nQ 556 841 556 1753 \nL 556 4666 \nz\n\" id=\"DejaVuSans-55\" transform=\"scale(0.015625)\"/>\n        <path d=\"M 3425 4513 \nL 3425 3897 \nQ 3066 4069 2747 4153 \nQ 2428 4238 2131 4238 \nQ 1616 4238 1336 4038 \nQ 1056 3838 1056 3469 \nQ 1056 3159 1242 3001 \nQ 1428 2844 1947 2747 \nL 2328 2669 \nQ 3034 2534 3370 2195 \nQ 3706 1856 3706 1288 \nQ 3706 609 3251 259 \nQ 2797 -91 1919 -91 \nQ 1588 -91 1214 -16 \nQ 841 59 441 206 \nL 441 856 \nQ 825 641 1194 531 \nQ 1563 422 1919 422 \nQ 2459 422 2753 634 \nQ 3047 847 3047 1241 \nQ 3047 1584 2836 1778 \nQ 2625 1972 2144 2069 \nL 1759 2144 \nQ 1053 2284 737 2584 \nQ 422 2884 422 3419 \nQ 422 4038 858 4394 \nQ 1294 4750 2059 4750 \nQ 2388 4750 2728 4690 \nQ 3069 4631 3425 4513 \nz\n\" id=\"DejaVuSans-53\" transform=\"scale(0.015625)\"/>\n       </defs>\n       <use xlink:href=\"#DejaVuSans-55\"/>\n       <use x=\"73.193359\" xlink:href=\"#DejaVuSans-53\"/>\n      </g>\n     </g>\n    </g>\n    <g id=\"ytick_2\">\n     <g id=\"line2d_11\">\n      <g>\n       <use style=\"stroke:#000000;stroke-width:0.8;\" x=\"45.291875\" xlink:href=\"#md2177f6e95\" y=\"42.000194\"/>\n      </g>\n     </g>\n     <g id=\"text_12\">\n      <!-- GB -->\n      <g transform=\"translate(23.6825 45.799413)scale(0.1 -0.1)\">\n       <defs>\n        <path d=\"M 3809 666 \nL 3809 1919 \nL 2778 1919 \nL 2778 2438 \nL 4434 2438 \nL 4434 434 \nQ 4069 175 3628 42 \nQ 3188 -91 2688 -91 \nQ 1594 -91 976 548 \nQ 359 1188 359 2328 \nQ 359 3472 976 4111 \nQ 1594 4750 2688 4750 \nQ 3144 4750 3555 4637 \nQ 3966 4525 4313 4306 \nL 4313 3634 \nQ 3963 3931 3569 4081 \nQ 3175 4231 2741 4231 \nQ 1884 4231 1454 3753 \nQ 1025 3275 1025 2328 \nQ 1025 1384 1454 906 \nQ 1884 428 2741 428 \nQ 3075 428 3337 486 \nQ 3600 544 3809 666 \nz\n\" id=\"DejaVuSans-47\" transform=\"scale(0.015625)\"/>\n        <path d=\"M 1259 2228 \nL 1259 519 \nL 2272 519 \nQ 2781 519 3026 730 \nQ 3272 941 3272 1375 \nQ 3272 1813 3026 2020 \nQ 2781 2228 2272 2228 \nL 1259 2228 \nz\nM 1259 4147 \nL 1259 2741 \nL 2194 2741 \nQ 2656 2741 2882 2914 \nQ 3109 3088 3109 3444 \nQ 3109 3797 2882 3972 \nQ 2656 4147 2194 4147 \nL 1259 4147 \nz\nM 628 4666 \nL 2241 4666 \nQ 2963 4666 3353 4366 \nQ 3744 4066 3744 3513 \nQ 3744 3084 3544 2831 \nQ 3344 2578 2956 2516 \nQ 3422 2416 3680 2098 \nQ 3938 1781 3938 1306 \nQ 3938 681 3513 340 \nQ 3088 0 2303 0 \nL 628 0 \nL 628 4666 \nz\n\" id=\"DejaVuSans-42\" transform=\"scale(0.015625)\"/>\n       </defs>\n       <use xlink:href=\"#DejaVuSans-47\"/>\n       <use x=\"77.490234\" xlink:href=\"#DejaVuSans-42\"/>\n      </g>\n     </g>\n    </g>\n    <g id=\"ytick_3\">\n     <g id=\"line2d_12\">\n      <g>\n       <use style=\"stroke:#000000;stroke-width:0.8;\" x=\"45.291875\" xlink:href=\"#md2177f6e95\" y=\"55.121573\"/>\n      </g>\n     </g>\n     <g id=\"text_13\">\n      <!-- IN -->\n      <g transform=\"translate(27.860625 58.920792)scale(0.1 -0.1)\">\n       <defs>\n        <path d=\"M 628 4666 \nL 1259 4666 \nL 1259 0 \nL 628 0 \nL 628 4666 \nz\n\" id=\"DejaVuSans-49\" transform=\"scale(0.015625)\"/>\n       </defs>\n       <use xlink:href=\"#DejaVuSans-49\"/>\n       <use x=\"29.492188\" xlink:href=\"#DejaVuSans-4e\"/>\n      </g>\n     </g>\n    </g>\n    <g id=\"ytick_4\">\n     <g id=\"line2d_13\">\n      <g>\n       <use style=\"stroke:#000000;stroke-width:0.8;\" x=\"45.291875\" xlink:href=\"#md2177f6e95\" y=\"68.242953\"/>\n      </g>\n     </g>\n     <g id=\"text_14\">\n      <!-- CA -->\n      <g transform=\"translate(24.468438 72.042171)scale(0.1 -0.1)\">\n       <defs>\n        <path d=\"M 4122 4306 \nL 4122 3641 \nQ 3803 3938 3442 4084 \nQ 3081 4231 2675 4231 \nQ 1875 4231 1450 3742 \nQ 1025 3253 1025 2328 \nQ 1025 1406 1450 917 \nQ 1875 428 2675 428 \nQ 3081 428 3442 575 \nQ 3803 722 4122 1019 \nL 4122 359 \nQ 3791 134 3420 21 \nQ 3050 -91 2638 -91 \nQ 1578 -91 968 557 \nQ 359 1206 359 2328 \nQ 359 3453 968 4101 \nQ 1578 4750 2638 4750 \nQ 3056 4750 3426 4639 \nQ 3797 4528 4122 4306 \nz\n\" id=\"DejaVuSans-43\" transform=\"scale(0.015625)\"/>\n       </defs>\n       <use xlink:href=\"#DejaVuSans-43\"/>\n       <use x=\"69.824219\" xlink:href=\"#DejaVuSans-41\"/>\n      </g>\n     </g>\n    </g>\n    <g id=\"ytick_5\">\n     <g id=\"line2d_14\">\n      <g>\n       <use style=\"stroke:#000000;stroke-width:0.8;\" x=\"45.291875\" xlink:href=\"#md2177f6e95\" y=\"81.364332\"/>\n      </g>\n     </g>\n     <g id=\"text_15\">\n      <!-- AU -->\n      <g transform=\"translate(24.1325 85.163551)scale(0.1 -0.1)\">\n       <use xlink:href=\"#DejaVuSans-41\"/>\n       <use x=\"68.408203\" xlink:href=\"#DejaVuSans-55\"/>\n      </g>\n     </g>\n    </g>\n    <g id=\"ytick_6\">\n     <g id=\"line2d_15\">\n      <g>\n       <use style=\"stroke:#000000;stroke-width:0.8;\" x=\"45.291875\" xlink:href=\"#md2177f6e95\" y=\"94.485711\"/>\n      </g>\n     </g>\n     <g id=\"text_16\">\n      <!-- CN -->\n      <g transform=\"translate(23.827813 98.28493)scale(0.1 -0.1)\">\n       <use xlink:href=\"#DejaVuSans-43\"/>\n       <use x=\"69.824219\" xlink:href=\"#DejaVuSans-4e\"/>\n      </g>\n     </g>\n    </g>\n    <g id=\"ytick_7\">\n     <g id=\"line2d_16\">\n      <g>\n       <use style=\"stroke:#000000;stroke-width:0.8;\" x=\"45.291875\" xlink:href=\"#md2177f6e95\" y=\"107.607091\"/>\n      </g>\n     </g>\n     <g id=\"text_17\">\n      <!-- FR -->\n      <g transform=\"translate(25.591875 111.406309)scale(0.1 -0.1)\">\n       <defs>\n        <path d=\"M 628 4666 \nL 3309 4666 \nL 3309 4134 \nL 1259 4134 \nL 1259 2759 \nL 3109 2759 \nL 3109 2228 \nL 1259 2228 \nL 1259 0 \nL 628 0 \nL 628 4666 \nz\n\" id=\"DejaVuSans-46\" transform=\"scale(0.015625)\"/>\n        <path d=\"M 2841 2188 \nQ 3044 2119 3236 1894 \nQ 3428 1669 3622 1275 \nL 4263 0 \nL 3584 0 \nL 2988 1197 \nQ 2756 1666 2539 1819 \nQ 2322 1972 1947 1972 \nL 1259 1972 \nL 1259 0 \nL 628 0 \nL 628 4666 \nL 2053 4666 \nQ 2853 4666 3247 4331 \nQ 3641 3997 3641 3322 \nQ 3641 2881 3436 2590 \nQ 3231 2300 2841 2188 \nz\nM 1259 4147 \nL 1259 2491 \nL 2053 2491 \nQ 2509 2491 2742 2702 \nQ 2975 2913 2975 3322 \nQ 2975 3731 2742 3939 \nQ 2509 4147 2053 4147 \nL 1259 4147 \nz\n\" id=\"DejaVuSans-52\" transform=\"scale(0.015625)\"/>\n       </defs>\n       <use xlink:href=\"#DejaVuSans-46\"/>\n       <use x=\"57.519531\" xlink:href=\"#DejaVuSans-52\"/>\n      </g>\n     </g>\n    </g>\n    <g id=\"ytick_8\">\n     <g id=\"line2d_17\">\n      <g>\n       <use style=\"stroke:#000000;stroke-width:0.8;\" x=\"45.291875\" xlink:href=\"#md2177f6e95\" y=\"120.72847\"/>\n      </g>\n     </g>\n     <g id=\"text_18\">\n      <!-- RU -->\n      <g transform=\"translate(24.024688 124.527689)scale(0.1 -0.1)\">\n       <use xlink:href=\"#DejaVuSans-52\"/>\n       <use x=\"69.482422\" xlink:href=\"#DejaVuSans-55\"/>\n      </g>\n     </g>\n    </g>\n    <g id=\"ytick_9\">\n     <g id=\"line2d_18\">\n      <g>\n       <use style=\"stroke:#000000;stroke-width:0.8;\" x=\"45.291875\" xlink:href=\"#md2177f6e95\" y=\"133.849849\"/>\n      </g>\n     </g>\n     <g id=\"text_19\">\n      <!-- IL -->\n      <g transform=\"translate(29.77 137.649068)scale(0.1 -0.1)\">\n       <defs>\n        <path d=\"M 628 4666 \nL 1259 4666 \nL 1259 531 \nL 3531 531 \nL 3531 0 \nL 628 0 \nL 628 4666 \nz\n\" id=\"DejaVuSans-4c\" transform=\"scale(0.015625)\"/>\n       </defs>\n       <use xlink:href=\"#DejaVuSans-49\"/>\n       <use x=\"29.492188\" xlink:href=\"#DejaVuSans-4c\"/>\n      </g>\n     </g>\n    </g>\n    <g id=\"ytick_10\">\n     <g id=\"line2d_19\">\n      <g>\n       <use style=\"stroke:#000000;stroke-width:0.8;\" x=\"45.291875\" xlink:href=\"#md2177f6e95\" y=\"146.971228\"/>\n      </g>\n     </g>\n     <g id=\"text_20\">\n      <!-- DE -->\n      <g transform=\"translate(24.273125 150.770447)scale(0.1 -0.1)\">\n       <defs>\n        <path d=\"M 1259 4147 \nL 1259 519 \nL 2022 519 \nQ 2988 519 3436 956 \nQ 3884 1394 3884 2338 \nQ 3884 3275 3436 3711 \nQ 2988 4147 2022 4147 \nL 1259 4147 \nz\nM 628 4666 \nL 1925 4666 \nQ 3281 4666 3915 4102 \nQ 4550 3538 4550 2338 \nQ 4550 1131 3912 565 \nQ 3275 0 1925 0 \nL 628 0 \nL 628 4666 \nz\n\" id=\"DejaVuSans-44\" transform=\"scale(0.015625)\"/>\n        <path d=\"M 628 4666 \nL 3578 4666 \nL 3578 4134 \nL 1259 4134 \nL 1259 2753 \nL 3481 2753 \nL 3481 2222 \nL 1259 2222 \nL 1259 531 \nL 3634 531 \nL 3634 0 \nL 628 0 \nL 628 4666 \nz\n\" id=\"DejaVuSans-45\" transform=\"scale(0.015625)\"/>\n       </defs>\n       <use xlink:href=\"#DejaVuSans-44\"/>\n       <use x=\"77.001953\" xlink:href=\"#DejaVuSans-45\"/>\n      </g>\n     </g>\n    </g>\n    <g id=\"ytick_11\">\n     <g id=\"line2d_20\">\n      <g>\n       <use style=\"stroke:#000000;stroke-width:0.8;\" x=\"45.291875\" xlink:href=\"#md2177f6e95\" y=\"160.092608\"/>\n      </g>\n     </g>\n     <g id=\"text_21\">\n      <!-- BR -->\n      <g transform=\"translate(24.4825 163.891827)scale(0.1 -0.1)\">\n       <use xlink:href=\"#DejaVuSans-42\"/>\n       <use x=\"68.603516\" xlink:href=\"#DejaVuSans-52\"/>\n      </g>\n     </g>\n    </g>\n    <g id=\"ytick_12\">\n     <g id=\"line2d_21\">\n      <g>\n       <use style=\"stroke:#000000;stroke-width:0.8;\" x=\"45.291875\" xlink:href=\"#md2177f6e95\" y=\"173.213987\"/>\n      </g>\n     </g>\n     <g id=\"text_22\">\n      <!-- IT -->\n      <g transform=\"translate(29.234063 177.013206)scale(0.1 -0.1)\">\n       <defs>\n        <path d=\"M -19 4666 \nL 3928 4666 \nL 3928 4134 \nL 2272 4134 \nL 2272 0 \nL 1638 0 \nL 1638 4134 \nL -19 4134 \nL -19 4666 \nz\n\" id=\"DejaVuSans-54\" transform=\"scale(0.015625)\"/>\n       </defs>\n       <use xlink:href=\"#DejaVuSans-49\"/>\n       <use x=\"29.492188\" xlink:href=\"#DejaVuSans-54\"/>\n      </g>\n     </g>\n    </g>\n    <g id=\"ytick_13\">\n     <g id=\"line2d_22\">\n      <g>\n       <use style=\"stroke:#000000;stroke-width:0.8;\" x=\"45.291875\" xlink:href=\"#md2177f6e95\" y=\"186.335366\"/>\n      </g>\n     </g>\n     <g id=\"text_23\">\n      <!-- JP -->\n      <g transform=\"translate(29.312188 190.134585)scale(0.1 -0.1)\">\n       <defs>\n        <path d=\"M 628 4666 \nL 1259 4666 \nL 1259 325 \nQ 1259 -519 939 -900 \nQ 619 -1281 -91 -1281 \nL -331 -1281 \nL -331 -750 \nL -134 -750 \nQ 284 -750 456 -515 \nQ 628 -281 628 325 \nL 628 4666 \nz\n\" id=\"DejaVuSans-4a\" transform=\"scale(0.015625)\"/>\n        <path d=\"M 1259 4147 \nL 1259 2394 \nL 2053 2394 \nQ 2494 2394 2734 2622 \nQ 2975 2850 2975 3272 \nQ 2975 3691 2734 3919 \nQ 2494 4147 2053 4147 \nL 1259 4147 \nz\nM 628 4666 \nL 2053 4666 \nQ 2838 4666 3239 4311 \nQ 3641 3956 3641 3272 \nQ 3641 2581 3239 2228 \nQ 2838 1875 2053 1875 \nL 1259 1875 \nL 1259 0 \nL 628 0 \nL 628 4666 \nz\n\" id=\"DejaVuSans-50\" transform=\"scale(0.015625)\"/>\n       </defs>\n       <use xlink:href=\"#DejaVuSans-4a\"/>\n       <use x=\"29.492188\" xlink:href=\"#DejaVuSans-50\"/>\n      </g>\n     </g>\n    </g>\n    <g id=\"ytick_14\">\n     <g id=\"line2d_23\">\n      <g>\n       <use style=\"stroke:#000000;stroke-width:0.8;\" x=\"45.291875\" xlink:href=\"#md2177f6e95\" y=\"199.456746\"/>\n      </g>\n     </g>\n     <g id=\"text_24\">\n      <!-- NZ -->\n      <g transform=\"translate(23.960625 203.255964)scale(0.1 -0.1)\">\n       <defs>\n        <path d=\"M 359 4666 \nL 4025 4666 \nL 4025 4184 \nL 1075 531 \nL 4097 531 \nL 4097 0 \nL 288 0 \nL 288 481 \nL 3238 4134 \nL 359 4134 \nL 359 4666 \nz\n\" id=\"DejaVuSans-5a\" transform=\"scale(0.015625)\"/>\n       </defs>\n       <use xlink:href=\"#DejaVuSans-4e\"/>\n       <use x=\"74.804688\" xlink:href=\"#DejaVuSans-5a\"/>\n      </g>\n     </g>\n    </g>\n    <g id=\"ytick_15\">\n     <g id=\"line2d_24\">\n      <g>\n       <use style=\"stroke:#000000;stroke-width:0.8;\" x=\"45.291875\" xlink:href=\"#md2177f6e95\" y=\"212.578125\"/>\n      </g>\n     </g>\n     <g id=\"text_25\">\n      <!-- ES -->\n      <g transform=\"translate(25.624688 216.377344)scale(0.1 -0.1)\">\n       <use xlink:href=\"#DejaVuSans-45\"/>\n       <use x=\"63.183594\" xlink:href=\"#DejaVuSans-53\"/>\n      </g>\n     </g>\n    </g>\n    <g id=\"ytick_16\">\n     <g id=\"line2d_25\">\n      <g>\n       <use style=\"stroke:#000000;stroke-width:0.8;\" x=\"45.291875\" xlink:href=\"#md2177f6e95\" y=\"225.699504\"/>\n      </g>\n     </g>\n     <g id=\"text_26\">\n      <!-- ZA -->\n      <g transform=\"translate(24.60125 229.498723)scale(0.1 -0.1)\">\n       <use xlink:href=\"#DejaVuSans-5a\"/>\n       <use x=\"68.505859\" xlink:href=\"#DejaVuSans-41\"/>\n      </g>\n     </g>\n    </g>\n    <g id=\"ytick_17\">\n     <g id=\"line2d_26\">\n      <g>\n       <use style=\"stroke:#000000;stroke-width:0.8;\" x=\"45.291875\" xlink:href=\"#md2177f6e95\" y=\"238.820884\"/>\n      </g>\n     </g>\n     <g id=\"text_27\">\n      <!-- PK -->\n      <g transform=\"translate(25.704375 242.620102)scale(0.1 -0.1)\">\n       <defs>\n        <path d=\"M 628 4666 \nL 1259 4666 \nL 1259 2694 \nL 3353 4666 \nL 4166 4666 \nL 1850 2491 \nL 4331 0 \nL 3500 0 \nL 1259 2247 \nL 1259 0 \nL 628 0 \nL 628 4666 \nz\n\" id=\"DejaVuSans-4b\" transform=\"scale(0.015625)\"/>\n       </defs>\n       <use xlink:href=\"#DejaVuSans-50\"/>\n       <use x=\"60.302734\" xlink:href=\"#DejaVuSans-4b\"/>\n      </g>\n     </g>\n    </g>\n    <g id=\"ytick_18\">\n     <g id=\"line2d_27\">\n      <g>\n       <use style=\"stroke:#000000;stroke-width:0.8;\" x=\"45.291875\" xlink:href=\"#md2177f6e95\" y=\"251.942263\"/>\n      </g>\n     </g>\n     <g id=\"text_28\">\n      <!-- IE -->\n      <g transform=\"translate(29.023125 255.741482)scale(0.1 -0.1)\">\n       <use xlink:href=\"#DejaVuSans-49\"/>\n       <use x=\"29.492188\" xlink:href=\"#DejaVuSans-45\"/>\n      </g>\n     </g>\n    </g>\n    <g id=\"ytick_19\">\n     <g id=\"line2d_28\">\n      <g>\n       <use style=\"stroke:#000000;stroke-width:0.8;\" x=\"45.291875\" xlink:href=\"#md2177f6e95\" y=\"265.063642\"/>\n      </g>\n     </g>\n     <g id=\"text_29\">\n      <!-- IQ -->\n      <g transform=\"translate(27.47 268.862861)scale(0.1 -0.1)\">\n       <defs>\n        <path d=\"M 2522 4238 \nQ 1834 4238 1429 3725 \nQ 1025 3213 1025 2328 \nQ 1025 1447 1429 934 \nQ 1834 422 2522 422 \nQ 3209 422 3611 934 \nQ 4013 1447 4013 2328 \nQ 4013 3213 3611 3725 \nQ 3209 4238 2522 4238 \nz\nM 3406 84 \nL 4238 -825 \nL 3475 -825 \nL 2784 -78 \nQ 2681 -84 2626 -87 \nQ 2572 -91 2522 -91 \nQ 1538 -91 948 567 \nQ 359 1225 359 2328 \nQ 359 3434 948 4092 \nQ 1538 4750 2522 4750 \nQ 3503 4750 4090 4092 \nQ 4678 3434 4678 2328 \nQ 4678 1516 4351 937 \nQ 4025 359 3406 84 \nz\n\" id=\"DejaVuSans-51\" transform=\"scale(0.015625)\"/>\n       </defs>\n       <use xlink:href=\"#DejaVuSans-49\"/>\n       <use x=\"29.492188\" xlink:href=\"#DejaVuSans-51\"/>\n      </g>\n     </g>\n    </g>\n    <g id=\"ytick_20\">\n     <g id=\"line2d_29\">\n      <g>\n       <use style=\"stroke:#000000;stroke-width:0.8;\" x=\"45.291875\" xlink:href=\"#md2177f6e95\" y=\"278.185022\"/>\n      </g>\n     </g>\n     <g id=\"text_30\">\n      <!-- PH -->\n      <g transform=\"translate(24.741875 281.98424)scale(0.1 -0.1)\">\n       <defs>\n        <path d=\"M 628 4666 \nL 1259 4666 \nL 1259 2753 \nL 3553 2753 \nL 3553 4666 \nL 4184 4666 \nL 4184 0 \nL 3553 0 \nL 3553 2222 \nL 1259 2222 \nL 1259 0 \nL 628 0 \nL 628 4666 \nz\n\" id=\"DejaVuSans-48\" transform=\"scale(0.015625)\"/>\n       </defs>\n       <use xlink:href=\"#DejaVuSans-50\"/>\n       <use x=\"60.302734\" xlink:href=\"#DejaVuSans-48\"/>\n      </g>\n     </g>\n    </g>\n    <g id=\"ytick_21\">\n     <g id=\"line2d_30\">\n      <g>\n       <use style=\"stroke:#000000;stroke-width:0.8;\" x=\"45.291875\" xlink:href=\"#md2177f6e95\" y=\"291.306401\"/>\n      </g>\n     </g>\n     <g id=\"text_31\">\n      <!-- MX -->\n      <g transform=\"translate(22.81375 295.10562)scale(0.1 -0.1)\">\n       <defs>\n        <path d=\"M 628 4666 \nL 1569 4666 \nL 2759 1491 \nL 3956 4666 \nL 4897 4666 \nL 4897 0 \nL 4281 0 \nL 4281 4097 \nL 3078 897 \nL 2444 897 \nL 1241 4097 \nL 1241 0 \nL 628 0 \nL 628 4666 \nz\n\" id=\"DejaVuSans-4d\" transform=\"scale(0.015625)\"/>\n        <path d=\"M 403 4666 \nL 1081 4666 \nL 2241 2931 \nL 3406 4666 \nL 4084 4666 \nL 2584 2425 \nL 4184 0 \nL 3506 0 \nL 2194 1984 \nL 872 0 \nL 191 0 \nL 1856 2491 \nL 403 4666 \nz\n\" id=\"DejaVuSans-58\" transform=\"scale(0.015625)\"/>\n       </defs>\n       <use xlink:href=\"#DejaVuSans-4d\"/>\n       <use x=\"86.279297\" xlink:href=\"#DejaVuSans-58\"/>\n      </g>\n     </g>\n    </g>\n    <g id=\"ytick_22\">\n     <g id=\"line2d_31\">\n      <g>\n       <use style=\"stroke:#000000;stroke-width:0.8;\" x=\"45.291875\" xlink:href=\"#md2177f6e95\" y=\"304.42778\"/>\n      </g>\n     </g>\n     <g id=\"text_32\">\n      <!-- IR -->\n      <g transform=\"translate(28.393438 308.226999)scale(0.1 -0.1)\">\n       <use xlink:href=\"#DejaVuSans-49\"/>\n       <use x=\"29.492188\" xlink:href=\"#DejaVuSans-52\"/>\n      </g>\n     </g>\n    </g>\n    <g id=\"ytick_23\">\n     <g id=\"line2d_32\">\n      <g>\n       <use style=\"stroke:#000000;stroke-width:0.8;\" x=\"45.291875\" xlink:href=\"#md2177f6e95\" y=\"317.549159\"/>\n      </g>\n     </g>\n     <g id=\"text_33\">\n      <!-- NG -->\n      <g transform=\"translate(23.062188 321.348378)scale(0.1 -0.1)\">\n       <use xlink:href=\"#DejaVuSans-4e\"/>\n       <use x=\"74.804688\" xlink:href=\"#DejaVuSans-47\"/>\n      </g>\n     </g>\n    </g>\n    <g id=\"ytick_24\">\n     <g id=\"line2d_33\">\n      <g>\n       <use style=\"stroke:#000000;stroke-width:0.8;\" x=\"45.291875\" xlink:href=\"#md2177f6e95\" y=\"330.670539\"/>\n      </g>\n     </g>\n     <g id=\"text_34\">\n      <!-- TR -->\n      <g transform=\"translate(25.235625 334.469758)scale(0.1 -0.1)\">\n       <use xlink:href=\"#DejaVuSans-54\"/>\n       <use x=\"61.083984\" xlink:href=\"#DejaVuSans-52\"/>\n      </g>\n     </g>\n    </g>\n    <g id=\"ytick_25\">\n     <g id=\"line2d_34\">\n      <g>\n       <use style=\"stroke:#000000;stroke-width:0.8;\" x=\"45.291875\" xlink:href=\"#md2177f6e95\" y=\"343.791918\"/>\n      </g>\n     </g>\n     <g id=\"text_35\">\n      <!-- SY -->\n      <g transform=\"translate(25.835625 347.591137)scale(0.1 -0.1)\">\n       <defs>\n        <path d=\"M -13 4666 \nL 666 4666 \nL 1959 2747 \nL 3244 4666 \nL 3922 4666 \nL 2272 2222 \nL 2272 0 \nL 1638 0 \nL 1638 2222 \nL -13 4666 \nz\n\" id=\"DejaVuSans-59\" transform=\"scale(0.015625)\"/>\n       </defs>\n       <use xlink:href=\"#DejaVuSans-53\"/>\n       <use x=\"63.476562\" xlink:href=\"#DejaVuSans-59\"/>\n      </g>\n     </g>\n    </g>\n    <g id=\"ytick_26\">\n     <g id=\"line2d_35\">\n      <g>\n       <use style=\"stroke:#000000;stroke-width:0.8;\" x=\"45.291875\" xlink:href=\"#md2177f6e95\" y=\"356.913297\"/>\n      </g>\n     </g>\n     <g id=\"text_36\">\n      <!-- AE -->\n      <g transform=\"translate(25.1325 360.712516)scale(0.1 -0.1)\">\n       <use xlink:href=\"#DejaVuSans-41\"/>\n       <use x=\"68.408203\" xlink:href=\"#DejaVuSans-45\"/>\n      </g>\n     </g>\n    </g>\n    <g id=\"ytick_27\">\n     <g id=\"line2d_36\">\n      <g>\n       <use style=\"stroke:#000000;stroke-width:0.8;\" x=\"45.291875\" xlink:href=\"#md2177f6e95\" y=\"370.034677\"/>\n      </g>\n     </g>\n     <g id=\"text_37\">\n      <!-- AF -->\n      <g transform=\"translate(25.699688 373.833895)scale(0.1 -0.1)\">\n       <use xlink:href=\"#DejaVuSans-41\"/>\n       <use x=\"68.408203\" xlink:href=\"#DejaVuSans-46\"/>\n      </g>\n     </g>\n    </g>\n    <g id=\"ytick_28\">\n     <g id=\"line2d_37\">\n      <g>\n       <use style=\"stroke:#000000;stroke-width:0.8;\" x=\"45.291875\" xlink:href=\"#md2177f6e95\" y=\"383.156056\"/>\n      </g>\n     </g>\n     <g id=\"text_38\">\n      <!-- PS -->\n      <g transform=\"translate(25.91375 386.955275)scale(0.1 -0.1)\">\n       <use xlink:href=\"#DejaVuSans-50\"/>\n       <use x=\"60.302734\" xlink:href=\"#DejaVuSans-53\"/>\n      </g>\n     </g>\n    </g>\n    <g id=\"ytick_29\">\n     <g id=\"line2d_38\">\n      <g>\n       <use style=\"stroke:#000000;stroke-width:0.8;\" x=\"45.291875\" xlink:href=\"#md2177f6e95\" y=\"396.277435\"/>\n      </g>\n     </g>\n     <g id=\"text_39\">\n      <!-- EG -->\n      <g transform=\"translate(24.224688 400.076654)scale(0.1 -0.1)\">\n       <use xlink:href=\"#DejaVuSans-45\"/>\n       <use x=\"63.183594\" xlink:href=\"#DejaVuSans-47\"/>\n      </g>\n     </g>\n    </g>\n    <g id=\"text_40\">\n     <!-- Countries -->\n     <g transform=\"translate(16.318125 241.347187)rotate(-90)scale(0.12 -0.12)\">\n      <defs>\n       <path d=\"M 3513 2113 \nL 3513 0 \nL 2938 0 \nL 2938 2094 \nQ 2938 2591 2744 2837 \nQ 2550 3084 2163 3084 \nQ 1697 3084 1428 2787 \nQ 1159 2491 1159 1978 \nL 1159 0 \nL 581 0 \nL 581 3500 \nL 1159 3500 \nL 1159 2956 \nQ 1366 3272 1645 3428 \nQ 1925 3584 2291 3584 \nQ 2894 3584 3203 3211 \nQ 3513 2838 3513 2113 \nz\n\" id=\"DejaVuSans-6e\" transform=\"scale(0.015625)\"/>\n      </defs>\n      <use xlink:href=\"#DejaVuSans-43\"/>\n      <use x=\"69.824219\" xlink:href=\"#DejaVuSans-6f\"/>\n      <use x=\"131.005859\" xlink:href=\"#DejaVuSans-75\"/>\n      <use x=\"194.384766\" xlink:href=\"#DejaVuSans-6e\"/>\n      <use x=\"257.763672\" xlink:href=\"#DejaVuSans-74\"/>\n      <use x=\"296.972656\" xlink:href=\"#DejaVuSans-72\"/>\n      <use x=\"338.085938\" xlink:href=\"#DejaVuSans-69\"/>\n      <use x=\"365.869141\" xlink:href=\"#DejaVuSans-65\"/>\n      <use x=\"427.392578\" xlink:href=\"#DejaVuSans-73\"/>\n     </g>\n    </g>\n   </g>\n   <g id=\"line2d_39\">\n    <path clip-path=\"url(#p9fe8aef7ad)\" style=\"fill:none;stroke:#424242;stroke-linecap:square;stroke-width:2.7;\"/>\n   </g>\n   <g id=\"line2d_40\">\n    <path clip-path=\"url(#p9fe8aef7ad)\" style=\"fill:none;stroke:#424242;stroke-linecap:square;stroke-width:2.7;\"/>\n   </g>\n   <g id=\"line2d_41\">\n    <path clip-path=\"url(#p9fe8aef7ad)\" style=\"fill:none;stroke:#424242;stroke-linecap:square;stroke-width:2.7;\"/>\n   </g>\n   <g id=\"line2d_42\">\n    <path clip-path=\"url(#p9fe8aef7ad)\" style=\"fill:none;stroke:#424242;stroke-linecap:square;stroke-width:2.7;\"/>\n   </g>\n   <g id=\"line2d_43\">\n    <path clip-path=\"url(#p9fe8aef7ad)\" style=\"fill:none;stroke:#424242;stroke-linecap:square;stroke-width:2.7;\"/>\n   </g>\n   <g id=\"line2d_44\">\n    <path clip-path=\"url(#p9fe8aef7ad)\" style=\"fill:none;stroke:#424242;stroke-linecap:square;stroke-width:2.7;\"/>\n   </g>\n   <g id=\"line2d_45\">\n    <path clip-path=\"url(#p9fe8aef7ad)\" style=\"fill:none;stroke:#424242;stroke-linecap:square;stroke-width:2.7;\"/>\n   </g>\n   <g id=\"line2d_46\">\n    <path clip-path=\"url(#p9fe8aef7ad)\" style=\"fill:none;stroke:#424242;stroke-linecap:square;stroke-width:2.7;\"/>\n   </g>\n   <g id=\"line2d_47\">\n    <path clip-path=\"url(#p9fe8aef7ad)\" style=\"fill:none;stroke:#424242;stroke-linecap:square;stroke-width:2.7;\"/>\n   </g>\n   <g id=\"line2d_48\">\n    <path clip-path=\"url(#p9fe8aef7ad)\" style=\"fill:none;stroke:#424242;stroke-linecap:square;stroke-width:2.7;\"/>\n   </g>\n   <g id=\"line2d_49\">\n    <path clip-path=\"url(#p9fe8aef7ad)\" style=\"fill:none;stroke:#424242;stroke-linecap:square;stroke-width:2.7;\"/>\n   </g>\n   <g id=\"line2d_50\">\n    <path clip-path=\"url(#p9fe8aef7ad)\" style=\"fill:none;stroke:#424242;stroke-linecap:square;stroke-width:2.7;\"/>\n   </g>\n   <g id=\"line2d_51\">\n    <path clip-path=\"url(#p9fe8aef7ad)\" style=\"fill:none;stroke:#424242;stroke-linecap:square;stroke-width:2.7;\"/>\n   </g>\n   <g id=\"line2d_52\">\n    <path clip-path=\"url(#p9fe8aef7ad)\" style=\"fill:none;stroke:#424242;stroke-linecap:square;stroke-width:2.7;\"/>\n   </g>\n   <g id=\"line2d_53\">\n    <path clip-path=\"url(#p9fe8aef7ad)\" style=\"fill:none;stroke:#424242;stroke-linecap:square;stroke-width:2.7;\"/>\n   </g>\n   <g id=\"line2d_54\">\n    <path clip-path=\"url(#p9fe8aef7ad)\" style=\"fill:none;stroke:#424242;stroke-linecap:square;stroke-width:2.7;\"/>\n   </g>\n   <g id=\"line2d_55\">\n    <path clip-path=\"url(#p9fe8aef7ad)\" style=\"fill:none;stroke:#424242;stroke-linecap:square;stroke-width:2.7;\"/>\n   </g>\n   <g id=\"line2d_56\">\n    <path clip-path=\"url(#p9fe8aef7ad)\" style=\"fill:none;stroke:#424242;stroke-linecap:square;stroke-width:2.7;\"/>\n   </g>\n   <g id=\"line2d_57\">\n    <path clip-path=\"url(#p9fe8aef7ad)\" style=\"fill:none;stroke:#424242;stroke-linecap:square;stroke-width:2.7;\"/>\n   </g>\n   <g id=\"line2d_58\">\n    <path clip-path=\"url(#p9fe8aef7ad)\" style=\"fill:none;stroke:#424242;stroke-linecap:square;stroke-width:2.7;\"/>\n   </g>\n   <g id=\"line2d_59\">\n    <path clip-path=\"url(#p9fe8aef7ad)\" style=\"fill:none;stroke:#424242;stroke-linecap:square;stroke-width:2.7;\"/>\n   </g>\n   <g id=\"line2d_60\">\n    <path clip-path=\"url(#p9fe8aef7ad)\" style=\"fill:none;stroke:#424242;stroke-linecap:square;stroke-width:2.7;\"/>\n   </g>\n   <g id=\"line2d_61\">\n    <path clip-path=\"url(#p9fe8aef7ad)\" style=\"fill:none;stroke:#424242;stroke-linecap:square;stroke-width:2.7;\"/>\n   </g>\n   <g id=\"line2d_62\">\n    <path clip-path=\"url(#p9fe8aef7ad)\" style=\"fill:none;stroke:#424242;stroke-linecap:square;stroke-width:2.7;\"/>\n   </g>\n   <g id=\"line2d_63\">\n    <path clip-path=\"url(#p9fe8aef7ad)\" style=\"fill:none;stroke:#424242;stroke-linecap:square;stroke-width:2.7;\"/>\n   </g>\n   <g id=\"line2d_64\">\n    <path clip-path=\"url(#p9fe8aef7ad)\" style=\"fill:none;stroke:#424242;stroke-linecap:square;stroke-width:2.7;\"/>\n   </g>\n   <g id=\"line2d_65\">\n    <path clip-path=\"url(#p9fe8aef7ad)\" style=\"fill:none;stroke:#424242;stroke-linecap:square;stroke-width:2.7;\"/>\n   </g>\n   <g id=\"line2d_66\">\n    <path clip-path=\"url(#p9fe8aef7ad)\" style=\"fill:none;stroke:#424242;stroke-linecap:square;stroke-width:2.7;\"/>\n   </g>\n   <g id=\"line2d_67\">\n    <path clip-path=\"url(#p9fe8aef7ad)\" style=\"fill:none;stroke:#424242;stroke-linecap:square;stroke-width:2.7;\"/>\n   </g>\n   <g id=\"patch_32\">\n    <path d=\"M 45.291875 402.838125 \nL 45.291875 22.318125 \n\" style=\"fill:none;stroke:#000000;stroke-linecap:square;stroke-linejoin:miter;stroke-width:0.8;\"/>\n   </g>\n   <g id=\"patch_33\">\n    <path d=\"M 603.291875 402.838125 \nL 603.291875 22.318125 \n\" style=\"fill:none;stroke:#000000;stroke-linecap:square;stroke-linejoin:miter;stroke-width:0.8;\"/>\n   </g>\n   <g id=\"patch_34\">\n    <path d=\"M 45.291875 402.838125 \nL 603.291875 402.838125 \n\" style=\"fill:none;stroke:#000000;stroke-linecap:square;stroke-linejoin:miter;stroke-width:0.8;\"/>\n   </g>\n   <g id=\"patch_35\">\n    <path d=\"M 45.291875 22.318125 \nL 603.291875 22.318125 \n\" style=\"fill:none;stroke:#000000;stroke-linecap:square;stroke-linejoin:miter;stroke-width:0.8;\"/>\n   </g>\n   <g id=\"text_41\">\n    <!-- Top 30 Countries with Most Number of Articles -->\n    <g transform=\"translate(185.100313 16.318125)scale(0.12 -0.12)\">\n     <defs>\n      <path d=\"M 1159 525 \nL 1159 -1331 \nL 581 -1331 \nL 581 3500 \nL 1159 3500 \nL 1159 2969 \nQ 1341 3281 1617 3432 \nQ 1894 3584 2278 3584 \nQ 2916 3584 3314 3078 \nQ 3713 2572 3713 1747 \nQ 3713 922 3314 415 \nQ 2916 -91 2278 -91 \nQ 1894 -91 1617 61 \nQ 1341 213 1159 525 \nz\nM 3116 1747 \nQ 3116 2381 2855 2742 \nQ 2594 3103 2138 3103 \nQ 1681 3103 1420 2742 \nQ 1159 2381 1159 1747 \nQ 1159 1113 1420 752 \nQ 1681 391 2138 391 \nQ 2594 391 2855 752 \nQ 3116 1113 3116 1747 \nz\n\" id=\"DejaVuSans-70\" transform=\"scale(0.015625)\"/>\n      <path d=\"M 2597 2516 \nQ 3050 2419 3304 2112 \nQ 3559 1806 3559 1356 \nQ 3559 666 3084 287 \nQ 2609 -91 1734 -91 \nQ 1441 -91 1130 -33 \nQ 819 25 488 141 \nL 488 750 \nQ 750 597 1062 519 \nQ 1375 441 1716 441 \nQ 2309 441 2620 675 \nQ 2931 909 2931 1356 \nQ 2931 1769 2642 2001 \nQ 2353 2234 1838 2234 \nL 1294 2234 \nL 1294 2753 \nL 1863 2753 \nQ 2328 2753 2575 2939 \nQ 2822 3125 2822 3475 \nQ 2822 3834 2567 4026 \nQ 2313 4219 1838 4219 \nQ 1578 4219 1281 4162 \nQ 984 4106 628 3988 \nL 628 4550 \nQ 988 4650 1302 4700 \nQ 1616 4750 1894 4750 \nQ 2613 4750 3031 4423 \nQ 3450 4097 3450 3541 \nQ 3450 3153 3228 2886 \nQ 3006 2619 2597 2516 \nz\n\" id=\"DejaVuSans-33\" transform=\"scale(0.015625)\"/>\n      <path d=\"M 269 3500 \nL 844 3500 \nL 1563 769 \nL 2278 3500 \nL 2956 3500 \nL 3675 769 \nL 4391 3500 \nL 4966 3500 \nL 4050 0 \nL 3372 0 \nL 2619 2869 \nL 1863 0 \nL 1184 0 \nL 269 3500 \nz\n\" id=\"DejaVuSans-77\" transform=\"scale(0.015625)\"/>\n      <path d=\"M 3513 2113 \nL 3513 0 \nL 2938 0 \nL 2938 2094 \nQ 2938 2591 2744 2837 \nQ 2550 3084 2163 3084 \nQ 1697 3084 1428 2787 \nQ 1159 2491 1159 1978 \nL 1159 0 \nL 581 0 \nL 581 4863 \nL 1159 4863 \nL 1159 2956 \nQ 1366 3272 1645 3428 \nQ 1925 3584 2291 3584 \nQ 2894 3584 3203 3211 \nQ 3513 2838 3513 2113 \nz\n\" id=\"DejaVuSans-68\" transform=\"scale(0.015625)\"/>\n     </defs>\n     <use xlink:href=\"#DejaVuSans-54\"/>\n     <use x=\"44.083984\" xlink:href=\"#DejaVuSans-6f\"/>\n     <use x=\"105.265625\" xlink:href=\"#DejaVuSans-70\"/>\n     <use x=\"168.742188\" xlink:href=\"#DejaVuSans-20\"/>\n     <use x=\"200.529297\" xlink:href=\"#DejaVuSans-33\"/>\n     <use x=\"264.152344\" xlink:href=\"#DejaVuSans-30\"/>\n     <use x=\"327.775391\" xlink:href=\"#DejaVuSans-20\"/>\n     <use x=\"359.5625\" xlink:href=\"#DejaVuSans-43\"/>\n     <use x=\"429.386719\" xlink:href=\"#DejaVuSans-6f\"/>\n     <use x=\"490.568359\" xlink:href=\"#DejaVuSans-75\"/>\n     <use x=\"553.947266\" xlink:href=\"#DejaVuSans-6e\"/>\n     <use x=\"617.326172\" xlink:href=\"#DejaVuSans-74\"/>\n     <use x=\"656.535156\" xlink:href=\"#DejaVuSans-72\"/>\n     <use x=\"697.648438\" xlink:href=\"#DejaVuSans-69\"/>\n     <use x=\"725.431641\" xlink:href=\"#DejaVuSans-65\"/>\n     <use x=\"786.955078\" xlink:href=\"#DejaVuSans-73\"/>\n     <use x=\"839.054688\" xlink:href=\"#DejaVuSans-20\"/>\n     <use x=\"870.841797\" xlink:href=\"#DejaVuSans-77\"/>\n     <use x=\"952.628906\" xlink:href=\"#DejaVuSans-69\"/>\n     <use x=\"980.412109\" xlink:href=\"#DejaVuSans-74\"/>\n     <use x=\"1019.621094\" xlink:href=\"#DejaVuSans-68\"/>\n     <use x=\"1083\" xlink:href=\"#DejaVuSans-20\"/>\n     <use x=\"1114.787109\" xlink:href=\"#DejaVuSans-4d\"/>\n     <use x=\"1201.066406\" xlink:href=\"#DejaVuSans-6f\"/>\n     <use x=\"1262.248047\" xlink:href=\"#DejaVuSans-73\"/>\n     <use x=\"1314.347656\" xlink:href=\"#DejaVuSans-74\"/>\n     <use x=\"1353.556641\" xlink:href=\"#DejaVuSans-20\"/>\n     <use x=\"1385.34375\" xlink:href=\"#DejaVuSans-4e\"/>\n     <use x=\"1460.148438\" xlink:href=\"#DejaVuSans-75\"/>\n     <use x=\"1523.527344\" xlink:href=\"#DejaVuSans-6d\"/>\n     <use x=\"1620.939453\" xlink:href=\"#DejaVuSans-62\"/>\n     <use x=\"1684.416016\" xlink:href=\"#DejaVuSans-65\"/>\n     <use x=\"1745.939453\" xlink:href=\"#DejaVuSans-72\"/>\n     <use x=\"1787.052734\" xlink:href=\"#DejaVuSans-20\"/>\n     <use x=\"1818.839844\" xlink:href=\"#DejaVuSans-6f\"/>\n     <use x=\"1880.021484\" xlink:href=\"#DejaVuSans-66\"/>\n     <use x=\"1915.226562\" xlink:href=\"#DejaVuSans-20\"/>\n     <use x=\"1947.013672\" xlink:href=\"#DejaVuSans-41\"/>\n     <use x=\"2015.421875\" xlink:href=\"#DejaVuSans-72\"/>\n     <use x=\"2056.535156\" xlink:href=\"#DejaVuSans-74\"/>\n     <use x=\"2095.744141\" xlink:href=\"#DejaVuSans-69\"/>\n     <use x=\"2123.527344\" xlink:href=\"#DejaVuSans-63\"/>\n     <use x=\"2178.507812\" xlink:href=\"#DejaVuSans-6c\"/>\n     <use x=\"2206.291016\" xlink:href=\"#DejaVuSans-65\"/>\n     <use x=\"2267.814453\" xlink:href=\"#DejaVuSans-73\"/>\n    </g>\n   </g>\n  </g>\n </g>\n <defs>\n  <clipPath id=\"p9fe8aef7ad\">\n   <rect height=\"380.52\" width=\"558\" x=\"45.291875\" y=\"22.318125\"/>\n  </clipPath>\n </defs>\n</svg>\n",
      "image/png": "[encoded data removed]"
     },
     "metadata": {
      "needs_background": "light"
     }
    }
   ],
   "metadata": {}
  },
  {
   "cell_type": "code",
   "execution_count": 12,
   "source": [
    "dataset.head()"
   ],
   "outputs": [
    {
     "output_type": "execute_result",
     "data": {
      "text/plain": [
       "                                                text           timestamp  \\\n",
       "0  Cumberland County Prosecutor’s Office says rem... 2019-04-18 13:05:03   \n",
       "1  War? . . . what war?\\nDoes it seem like we are... 2019-04-18 21:00:27   \n",
       "2  The Sagittarian Teapot (center of our Milky Wa... 2019-04-18 14:36:08   \n",
       "3  Sportswear tycoon Mike Ashley gave orders to s... 2019-04-18 20:17:31   \n",
       "4  Vice President Chen Chien-jen, second left, an... 2019-04-18 19:28:32   \n",
       "\n",
       "                                                 url  \\\n",
       "0  https://www.thedailyjournal.com/story/news/loc...   \n",
       "1    https://www.texasgopvote.com/war-what-war-00116   \n",
       "2  https://www.miamiherald.com/living/article2595...   \n",
       "3  https://www.thisismoney.co.uk/money/markets/ar...   \n",
       "4  http://www.taipeitimes.com/News/front/archives...   \n",
       "\n",
       "                                         cities_list  \\\n",
       "0  [{'score': 4, 'featureCode': 'PPL', 'stateGeoN...   \n",
       "1  [{'score': 1, 'featureCode': 'PPLA2', 'stateGe...   \n",
       "2  [{'score': 3, 'featureCode': 'PPLL', 'stateGeo...   \n",
       "3  [{'score': 1, 'featureCode': 'PPLA2', 'stateGe...   \n",
       "4  [{'score': 2, 'featureCode': 'PPLC', 'stateGeo...   \n",
       "\n",
       "                                         states_list  \\\n",
       "0  [{'score': 9, 'featureCode': 'ADM1', 'stateGeo...   \n",
       "1  [{'score': 3, 'featureCode': 'ADM1', 'stateGeo...   \n",
       "2  [{'score': 4, 'featureCode': 'ADM1', 'stateGeo...   \n",
       "3  [{'score': 1, 'featureCode': 'ADM1', 'stateGeo...   \n",
       "4  [{'score': 2, 'featureCode': 'ADM1', 'stateGeo...   \n",
       "\n",
       "                                      countries_list  \\\n",
       "0  [{'score': 12, 'featureCode': 'PCLI', 'stateGe...   \n",
       "1  [{'score': 3, 'featureCode': 'PCLI', 'stateGeo...   \n",
       "2  [{'score': 4, 'featureCode': 'PCLI', 'stateGeo...   \n",
       "3  [{'score': 2, 'featureCode': 'PCLI', 'stateGeo...   \n",
       "4  [{'score': 7, 'featureCode': 'PCLI', 'stateGeo...   \n",
       "\n",
       "                                        country_name country_code  \n",
       "0                                      United States           US  \n",
       "1                                      United States           US  \n",
       "2                          Commonwealth of Australia           AU  \n",
       "3  United Kingdom of Great Britain and Northern I...           GB  \n",
       "4                                             Taiwan           TW  "
      ],
      "text/html": [
       "<div>\n",
       "<style scoped>\n",
       "    .dataframe tbody tr th:only-of-type {\n",
       "        vertical-align: middle;\n",
       "    }\n",
       "\n",
       "    .dataframe tbody tr th {\n",
       "        vertical-align: top;\n",
       "    }\n",
       "\n",
       "    .dataframe thead th {\n",
       "        text-align: right;\n",
       "    }\n",
       "</style>\n",
       "<table border=\"1\" class=\"dataframe\">\n",
       "  <thead>\n",
       "    <tr style=\"text-align: right;\">\n",
       "      <th></th>\n",
       "      <th>text</th>\n",
       "      <th>timestamp</th>\n",
       "      <th>url</th>\n",
       "      <th>cities_list</th>\n",
       "      <th>states_list</th>\n",
       "      <th>countries_list</th>\n",
       "      <th>country_name</th>\n",
       "      <th>country_code</th>\n",
       "    </tr>\n",
       "  </thead>\n",
       "  <tbody>\n",
       "    <tr>\n",
       "      <th>0</th>\n",
       "      <td>Cumberland County Prosecutor’s Office says rem...</td>\n",
       "      <td>2019-04-18 13:05:03</td>\n",
       "      <td>https://www.thedailyjournal.com/story/news/loc...</td>\n",
       "      <td>[{'score': 4, 'featureCode': 'PPL', 'stateGeoN...</td>\n",
       "      <td>[{'score': 9, 'featureCode': 'ADM1', 'stateGeo...</td>\n",
       "      <td>[{'score': 12, 'featureCode': 'PCLI', 'stateGe...</td>\n",
       "      <td>United States</td>\n",
       "      <td>US</td>\n",
       "    </tr>\n",
       "    <tr>\n",
       "      <th>1</th>\n",
       "      <td>War? . . . what war?\\nDoes it seem like we are...</td>\n",
       "      <td>2019-04-18 21:00:27</td>\n",
       "      <td>https://www.texasgopvote.com/war-what-war-00116</td>\n",
       "      <td>[{'score': 1, 'featureCode': 'PPLA2', 'stateGe...</td>\n",
       "      <td>[{'score': 3, 'featureCode': 'ADM1', 'stateGeo...</td>\n",
       "      <td>[{'score': 3, 'featureCode': 'PCLI', 'stateGeo...</td>\n",
       "      <td>United States</td>\n",
       "      <td>US</td>\n",
       "    </tr>\n",
       "    <tr>\n",
       "      <th>2</th>\n",
       "      <td>The Sagittarian Teapot (center of our Milky Wa...</td>\n",
       "      <td>2019-04-18 14:36:08</td>\n",
       "      <td>https://www.miamiherald.com/living/article2595...</td>\n",
       "      <td>[{'score': 3, 'featureCode': 'PPLL', 'stateGeo...</td>\n",
       "      <td>[{'score': 4, 'featureCode': 'ADM1', 'stateGeo...</td>\n",
       "      <td>[{'score': 4, 'featureCode': 'PCLI', 'stateGeo...</td>\n",
       "      <td>Commonwealth of Australia</td>\n",
       "      <td>AU</td>\n",
       "    </tr>\n",
       "    <tr>\n",
       "      <th>3</th>\n",
       "      <td>Sportswear tycoon Mike Ashley gave orders to s...</td>\n",
       "      <td>2019-04-18 20:17:31</td>\n",
       "      <td>https://www.thisismoney.co.uk/money/markets/ar...</td>\n",
       "      <td>[{'score': 1, 'featureCode': 'PPLA2', 'stateGe...</td>\n",
       "      <td>[{'score': 1, 'featureCode': 'ADM1', 'stateGeo...</td>\n",
       "      <td>[{'score': 2, 'featureCode': 'PCLI', 'stateGeo...</td>\n",
       "      <td>United Kingdom of Great Britain and Northern I...</td>\n",
       "      <td>GB</td>\n",
       "    </tr>\n",
       "    <tr>\n",
       "      <th>4</th>\n",
       "      <td>Vice President Chen Chien-jen, second left, an...</td>\n",
       "      <td>2019-04-18 19:28:32</td>\n",
       "      <td>http://www.taipeitimes.com/News/front/archives...</td>\n",
       "      <td>[{'score': 2, 'featureCode': 'PPLC', 'stateGeo...</td>\n",
       "      <td>[{'score': 2, 'featureCode': 'ADM1', 'stateGeo...</td>\n",
       "      <td>[{'score': 7, 'featureCode': 'PCLI', 'stateGeo...</td>\n",
       "      <td>Taiwan</td>\n",
       "      <td>TW</td>\n",
       "    </tr>\n",
       "  </tbody>\n",
       "</table>\n",
       "</div>"
      ]
     },
     "metadata": {},
     "execution_count": 12
    }
   ],
   "metadata": {}
  },
  {
   "cell_type": "markdown",
   "source": [
    "# Splitting into buckets for countries of interest"
   ],
   "metadata": {}
  },
  {
   "cell_type": "code",
   "execution_count": 13,
   "source": [
    "countries_of_interest = ['US', 'GB', 'IN']\n",
    "\n",
    "for country in countries_of_interest:\n",
    "    tmp = dataset[dataset['country_code'] == country]\n",
    "    tmp.to_json('c4_' + country+ '.json')\n",
    "    print(\"Total number of articles for {}: {}\".format(country, tmp.shape[0]))\n"
   ],
   "outputs": [
    {
     "output_type": "stream",
     "name": "stdout",
     "text": [
      "Total number of articles for US: 213331\n",
      "Total number of articles for GB: 36150\n",
      "Total number of articles for IN: 12466\n"
     ]
    }
   ],
   "metadata": {}
  }
 ],
 "metadata": {
  "orig_nbformat": 4,
  "language_info": {
   "name": "python",
   "version": "3.8.10",
   "mimetype": "text/x-python",
   "codemirror_mode": {
    "name": "ipython",
    "version": 3
   },
   "pygments_lexer": "ipython3",
   "nbconvert_exporter": "python",
   "file_extension": ".py"
  },
  "kernelspec": {
   "name": "python3",
   "display_name": "Python 3.8.10 64-bit ('clavin': venv)"
  },
  "interpreter": {
   "hash": "3c385506affea6c7619b67035787c02e4b491a9cfe0b14676e4ed7349fb82a52"
  }
 },
 "nbformat": 4,
 "nbformat_minor": 2
}